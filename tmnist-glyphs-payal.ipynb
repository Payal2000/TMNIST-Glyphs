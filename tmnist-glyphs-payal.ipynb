{
 "cells": [
  {
   "cell_type": "markdown",
   "id": "3f0e876d",
   "metadata": {
    "papermill": {
     "duration": 0.017716,
     "end_time": "2024-11-18T03:20:08.896993",
     "exception": false,
     "start_time": "2024-11-18T03:20:08.879277",
     "status": "completed"
    },
    "tags": []
   },
   "source": [
    "## **Assignment** -  Neural Network Type Classification | TMNIST\n",
    "### TMNIST-Glyphs (MNIST Style Glyph images): Over 500000 images of 1812 glyphs in 2990 font styles\n"
   ]
  },
  {
   "cell_type": "markdown",
   "id": "b1ef52c3",
   "metadata": {
    "papermill": {
     "duration": 0.016127,
     "end_time": "2024-11-18T03:20:08.929171",
     "exception": false,
     "start_time": "2024-11-18T03:20:08.913044",
     "status": "completed"
    },
    "tags": []
   },
   "source": [
    "## **What Are Neural Networks?**\n",
    "\n",
    "Neural networks are computational models inspired by the functioning of the human brain. They are foundational to machine learning, especially deep learning, and are designed to recognize patterns, make predictions, and process complex data.\n",
    "\n",
    "- **Core Components of Neural Networks**\n",
    "   - Neurons: Basic processing units, analogous to biological neurons.Each neuron receives inputs, processes them, and produces an output.\n",
    "   - Layers:\n",
    "   - Input Layer: Takes raw data (e.g., images, text, numbers) as input.\n",
    "   - Hidden Layers: Process the input data through interconnected neurons.\n",
    "   - Output Layer: Produces the final prediction or classification.\n",
    "\n",
    "- **Weights and Biases:**\n",
    "    - Weights: Adjust the importance of each input feature.\n",
    "    - Bias: Adds flexibility to the model by shifting the activation function.\n",
    "\n",
    "- **Activation Functions:**\n",
    "   - Introduce non-linearity to the network.Examples: ReLU (Rectified Linear Unit), Sigmoid, Tanh.\n",
    " \n",
    "    \n",
    "\n",
    "  ![Neural Network1](https://www.analyticsvidhya.com/wp-content/uploads/2016/08/Artificial-Intelligence-Neural-Network-Nodes.jpg)\n",
    "\n"
   ]
  },
  {
   "cell_type": "markdown",
   "id": "65488f32",
   "metadata": {
    "papermill": {
     "duration": 0.015555,
     "end_time": "2024-11-18T03:20:08.960163",
     "exception": false,
     "start_time": "2024-11-18T03:20:08.944608",
     "status": "completed"
    },
    "tags": []
   },
   "source": [
    "### **Dataset Used**: https://www.kaggle.com/datasets/nimishmagre/tmnist-glyphs-1812-characters"
   ]
  },
  {
   "cell_type": "markdown",
   "id": "67349d14",
   "metadata": {
    "papermill": {
     "duration": 0.015093,
     "end_time": "2024-11-18T03:20:08.991772",
     "exception": false,
     "start_time": "2024-11-18T03:20:08.976679",
     "status": "completed"
    },
    "tags": []
   },
   "source": [
    "The TMNIST-Glyphs dataset provides an extensive collection of MNIST-style images, ideal for machine learning projects focused on typography, computational creativity, or multilingual OCR. Here's a summary and some ideas for leveraging this dataset effectively:\n",
    "\n",
    "Dataset Overview\n",
    " - Size and Scope: 500,000+ images: Generated from 1,812 glyphs and 2,990 font styles.\n",
    " - Wide Variety: Covers characters from diverse scripts and languages.\n",
    " - File Format:\n",
    "\n",
    "- Single CSV File:\n",
    "  - First row: Column headers\n",
    "  - Columns:\n",
    "    - font_name: Font file names (e.g., Acme-Regular).\n",
    "    - glyph_name: Unicode description of the glyph (e.g., LATIN CAPITAL LETTER A).\n",
    "    - label: The actual character (e.g., श, E, or छ).\n",
    "    - Remaining 784 columns: Grayscale pixel values of 28x28 images.\n",
    "\n"
   ]
  },
  {
   "cell_type": "markdown",
   "id": "ddd6644a",
   "metadata": {
    "papermill": {
     "duration": 0.014896,
     "end_time": "2024-11-18T03:20:09.022172",
     "exception": false,
     "start_time": "2024-11-18T03:20:09.007276",
     "status": "completed"
    },
    "tags": []
   },
   "source": [
    "![Neural Network](https://upload.wikimedia.org/wikipedia/commons/thumb/4/46/Colored_neural_network.svg/512px-Colored_neural_network.svg.png)"
   ]
  },
  {
   "cell_type": "code",
   "execution_count": 1,
   "id": "f7dddd6d",
   "metadata": {
    "_cell_guid": "b1076dfc-b9ad-4769-8c92-a6c4dae69d19",
    "_uuid": "8f2839f25d086af736a60e9eeb907d3b93b6e0e5",
    "execution": {
     "iopub.execute_input": "2024-11-18T03:20:09.056860Z",
     "iopub.status.busy": "2024-11-18T03:20:09.056338Z",
     "iopub.status.idle": "2024-11-18T03:20:10.168222Z",
     "shell.execute_reply": "2024-11-18T03:20:10.166352Z"
    },
    "papermill": {
     "duration": 1.132729,
     "end_time": "2024-11-18T03:20:10.171279",
     "exception": false,
     "start_time": "2024-11-18T03:20:09.038550",
     "status": "completed"
    },
    "tags": []
   },
   "outputs": [
    {
     "name": "stdout",
     "output_type": "stream",
     "text": [
      "/kaggle/input/tmnist-glyphs-1812-characters/Glyphs_TMNIST_updated.csv\n"
     ]
    }
   ],
   "source": [
    "# This Python 3 environment comes with many helpful analytics libraries installed\n",
    "# It is defined by the kaggle/python Docker image: https://github.com/kaggle/docker-python\n",
    "# For example, here's several helpful packages to load\n",
    "\n",
    "import numpy as np # linear algebra\n",
    "import pandas as pd # data processing, CSV file I/O (e.g. pd.read_csv)\n",
    "\n",
    "# Input data files are available in the read-only \"../input/\" directory\n",
    "# For example, running this (by clicking run or pressing Shift+Enter) will list all files under the input directory\n",
    "\n",
    "import os\n",
    "for dirname, _, filenames in os.walk('/kaggle/input'):\n",
    "    for filename in filenames:\n",
    "        print(os.path.join(dirname, filename))\n",
    "\n",
    "# You can write up to 20GB to the current directory (/kaggle/working/) that gets preserved as output when you create a version using \"Save & Run All\" \n",
    "# You can also write temporary files to /kaggle/temp/, but they won't be saved outside of the current session"
   ]
  },
  {
   "cell_type": "markdown",
   "id": "f8e51140",
   "metadata": {
    "papermill": {
     "duration": 0.015454,
     "end_time": "2024-11-18T03:20:10.202845",
     "exception": false,
     "start_time": "2024-11-18T03:20:10.187391",
     "status": "completed"
    },
    "tags": []
   },
   "source": [
    "### ****Importing necessary libraries****"
   ]
  },
  {
   "cell_type": "code",
   "execution_count": 2,
   "id": "fc29293a",
   "metadata": {
    "execution": {
     "iopub.execute_input": "2024-11-18T03:20:10.237704Z",
     "iopub.status.busy": "2024-11-18T03:20:10.237120Z",
     "iopub.status.idle": "2024-11-18T03:20:31.892701Z",
     "shell.execute_reply": "2024-11-18T03:20:31.891311Z"
    },
    "papermill": {
     "duration": 21.676395,
     "end_time": "2024-11-18T03:20:31.895521",
     "exception": false,
     "start_time": "2024-11-18T03:20:10.219126",
     "status": "completed"
    },
    "tags": []
   },
   "outputs": [
    {
     "name": "stdout",
     "output_type": "stream",
     "text": [
      "GPU is not available. Using the CPU...\n"
     ]
    }
   ],
   "source": [
    "import numpy as np\n",
    "import pandas as pd\n",
    "import tensorflow as tf\n",
    "import torch\n",
    "import torch.nn as nn\n",
    "from torch.utils.data import Dataset, DataLoader, TensorDataset\n",
    "from tensorflow.keras.models import Sequential\n",
    "from tensorflow.keras.layers import Dense, Dropout, Flatten, Conv2D, MaxPooling2D\n",
    "from tensorflow.keras.callbacks import EarlyStopping\n",
    "from sklearn.metrics import roc_auc_score, accuracy_score\n",
    "import os\n",
    "import torch\n",
    "\n",
    "# Check if CUDA is available\n",
    "if torch.cuda.is_available():\n",
    "    device = torch.device(\"cuda\")\n",
    "    print(\"GPU is available. Using the GPU...\")\n",
    "else:\n",
    "    device = torch.device(\"cpu\")\n",
    "    print(\"GPU is not available. Using the CPU...\")"
   ]
  },
  {
   "cell_type": "markdown",
   "id": "bf19eb1d",
   "metadata": {
    "papermill": {
     "duration": 0.01541,
     "end_time": "2024-11-18T03:20:31.926712",
     "exception": false,
     "start_time": "2024-11-18T03:20:31.911302",
     "status": "completed"
    },
    "tags": []
   },
   "source": [
    "This code initializes key libraries for machine learning (e.g., numpy, pandas) and deep learning frameworks (tensorflow, torch). It checks for GPU availability using PyTorch (torch.cuda.is_available()) and sets the computing device to either GPU (cuda) or CPU (cpu), printing the result."
   ]
  },
  {
   "cell_type": "code",
   "execution_count": 3,
   "id": "63895cb2",
   "metadata": {
    "execution": {
     "iopub.execute_input": "2024-11-18T03:20:31.960936Z",
     "iopub.status.busy": "2024-11-18T03:20:31.960090Z",
     "iopub.status.idle": "2024-11-18T03:21:37.521241Z",
     "shell.execute_reply": "2024-11-18T03:21:37.519880Z"
    },
    "papermill": {
     "duration": 65.582292,
     "end_time": "2024-11-18T03:21:37.524521",
     "exception": false,
     "start_time": "2024-11-18T03:20:31.942229",
     "status": "completed"
    },
    "tags": []
   },
   "outputs": [],
   "source": [
    "data_g = pd.read_csv(\"/kaggle/input/tmnist-glyphs-1812-characters/Glyphs_TMNIST_updated.csv\")"
   ]
  },
  {
   "cell_type": "markdown",
   "id": "385f4b77",
   "metadata": {
    "papermill": {
     "duration": 0.01609,
     "end_time": "2024-11-18T03:21:37.557154",
     "exception": false,
     "start_time": "2024-11-18T03:21:37.541064",
     "status": "completed"
    },
    "tags": []
   },
   "source": [
    "### **Displaying first few rows of the dataset**"
   ]
  },
  {
   "cell_type": "code",
   "execution_count": 4,
   "id": "91f08b13",
   "metadata": {
    "execution": {
     "iopub.execute_input": "2024-11-18T03:21:37.591758Z",
     "iopub.status.busy": "2024-11-18T03:21:37.591255Z",
     "iopub.status.idle": "2024-11-18T03:21:37.630472Z",
     "shell.execute_reply": "2024-11-18T03:21:37.629318Z"
    },
    "papermill": {
     "duration": 0.06,
     "end_time": "2024-11-18T03:21:37.633192",
     "exception": false,
     "start_time": "2024-11-18T03:21:37.573192",
     "status": "completed"
    },
    "tags": []
   },
   "outputs": [
    {
     "data": {
      "text/html": [
       "<div>\n",
       "<style scoped>\n",
       "    .dataframe tbody tr th:only-of-type {\n",
       "        vertical-align: middle;\n",
       "    }\n",
       "\n",
       "    .dataframe tbody tr th {\n",
       "        vertical-align: top;\n",
       "    }\n",
       "\n",
       "    .dataframe thead th {\n",
       "        text-align: right;\n",
       "    }\n",
       "</style>\n",
       "<table border=\"1\" class=\"dataframe\">\n",
       "  <thead>\n",
       "    <tr style=\"text-align: right;\">\n",
       "      <th></th>\n",
       "      <th>font_name</th>\n",
       "      <th>glyph_name</th>\n",
       "      <th>label</th>\n",
       "      <th>1</th>\n",
       "      <th>2</th>\n",
       "      <th>3</th>\n",
       "      <th>4</th>\n",
       "      <th>5</th>\n",
       "      <th>6</th>\n",
       "      <th>7</th>\n",
       "      <th>...</th>\n",
       "      <th>775</th>\n",
       "      <th>776</th>\n",
       "      <th>777</th>\n",
       "      <th>778</th>\n",
       "      <th>779</th>\n",
       "      <th>780</th>\n",
       "      <th>781</th>\n",
       "      <th>782</th>\n",
       "      <th>783</th>\n",
       "      <th>784</th>\n",
       "    </tr>\n",
       "  </thead>\n",
       "  <tbody>\n",
       "    <tr>\n",
       "      <th>0</th>\n",
       "      <td>ABeeZee-Regular</td>\n",
       "      <td>LATIN CAPITAL LETTER A</td>\n",
       "      <td>A</td>\n",
       "      <td>0</td>\n",
       "      <td>0</td>\n",
       "      <td>0</td>\n",
       "      <td>0</td>\n",
       "      <td>0</td>\n",
       "      <td>0</td>\n",
       "      <td>0</td>\n",
       "      <td>...</td>\n",
       "      <td>0</td>\n",
       "      <td>0</td>\n",
       "      <td>0</td>\n",
       "      <td>0</td>\n",
       "      <td>0</td>\n",
       "      <td>0</td>\n",
       "      <td>0</td>\n",
       "      <td>0</td>\n",
       "      <td>0</td>\n",
       "      <td>0</td>\n",
       "    </tr>\n",
       "    <tr>\n",
       "      <th>1</th>\n",
       "      <td>ABeeZee-Regular</td>\n",
       "      <td>LATIN CAPITAL LETTER B</td>\n",
       "      <td>B</td>\n",
       "      <td>0</td>\n",
       "      <td>0</td>\n",
       "      <td>0</td>\n",
       "      <td>0</td>\n",
       "      <td>0</td>\n",
       "      <td>0</td>\n",
       "      <td>0</td>\n",
       "      <td>...</td>\n",
       "      <td>0</td>\n",
       "      <td>0</td>\n",
       "      <td>0</td>\n",
       "      <td>0</td>\n",
       "      <td>0</td>\n",
       "      <td>0</td>\n",
       "      <td>0</td>\n",
       "      <td>0</td>\n",
       "      <td>0</td>\n",
       "      <td>0</td>\n",
       "    </tr>\n",
       "    <tr>\n",
       "      <th>2</th>\n",
       "      <td>ABeeZee-Regular</td>\n",
       "      <td>LATIN CAPITAL LETTER C</td>\n",
       "      <td>C</td>\n",
       "      <td>0</td>\n",
       "      <td>0</td>\n",
       "      <td>0</td>\n",
       "      <td>0</td>\n",
       "      <td>0</td>\n",
       "      <td>0</td>\n",
       "      <td>0</td>\n",
       "      <td>...</td>\n",
       "      <td>0</td>\n",
       "      <td>0</td>\n",
       "      <td>0</td>\n",
       "      <td>0</td>\n",
       "      <td>0</td>\n",
       "      <td>0</td>\n",
       "      <td>0</td>\n",
       "      <td>0</td>\n",
       "      <td>0</td>\n",
       "      <td>0</td>\n",
       "    </tr>\n",
       "    <tr>\n",
       "      <th>3</th>\n",
       "      <td>ABeeZee-Regular</td>\n",
       "      <td>LATIN CAPITAL LETTER D</td>\n",
       "      <td>D</td>\n",
       "      <td>0</td>\n",
       "      <td>0</td>\n",
       "      <td>0</td>\n",
       "      <td>0</td>\n",
       "      <td>0</td>\n",
       "      <td>0</td>\n",
       "      <td>0</td>\n",
       "      <td>...</td>\n",
       "      <td>0</td>\n",
       "      <td>0</td>\n",
       "      <td>0</td>\n",
       "      <td>0</td>\n",
       "      <td>0</td>\n",
       "      <td>0</td>\n",
       "      <td>0</td>\n",
       "      <td>0</td>\n",
       "      <td>0</td>\n",
       "      <td>0</td>\n",
       "    </tr>\n",
       "    <tr>\n",
       "      <th>4</th>\n",
       "      <td>ABeeZee-Regular</td>\n",
       "      <td>LATIN CAPITAL LETTER E</td>\n",
       "      <td>E</td>\n",
       "      <td>0</td>\n",
       "      <td>0</td>\n",
       "      <td>0</td>\n",
       "      <td>0</td>\n",
       "      <td>0</td>\n",
       "      <td>0</td>\n",
       "      <td>0</td>\n",
       "      <td>...</td>\n",
       "      <td>0</td>\n",
       "      <td>0</td>\n",
       "      <td>0</td>\n",
       "      <td>0</td>\n",
       "      <td>0</td>\n",
       "      <td>0</td>\n",
       "      <td>0</td>\n",
       "      <td>0</td>\n",
       "      <td>0</td>\n",
       "      <td>0</td>\n",
       "    </tr>\n",
       "  </tbody>\n",
       "</table>\n",
       "<p>5 rows × 787 columns</p>\n",
       "</div>"
      ],
      "text/plain": [
       "         font_name              glyph_name label  1  2  3  4  5  6  7  ...  \\\n",
       "0  ABeeZee-Regular  LATIN CAPITAL LETTER A     A  0  0  0  0  0  0  0  ...   \n",
       "1  ABeeZee-Regular  LATIN CAPITAL LETTER B     B  0  0  0  0  0  0  0  ...   \n",
       "2  ABeeZee-Regular  LATIN CAPITAL LETTER C     C  0  0  0  0  0  0  0  ...   \n",
       "3  ABeeZee-Regular  LATIN CAPITAL LETTER D     D  0  0  0  0  0  0  0  ...   \n",
       "4  ABeeZee-Regular  LATIN CAPITAL LETTER E     E  0  0  0  0  0  0  0  ...   \n",
       "\n",
       "   775  776  777  778  779  780  781  782  783  784  \n",
       "0    0    0    0    0    0    0    0    0    0    0  \n",
       "1    0    0    0    0    0    0    0    0    0    0  \n",
       "2    0    0    0    0    0    0    0    0    0    0  \n",
       "3    0    0    0    0    0    0    0    0    0    0  \n",
       "4    0    0    0    0    0    0    0    0    0    0  \n",
       "\n",
       "[5 rows x 787 columns]"
      ]
     },
     "execution_count": 4,
     "metadata": {},
     "output_type": "execute_result"
    }
   ],
   "source": [
    "# Displaying first rows of dataset\n",
    "data_g.head()"
   ]
  },
  {
   "cell_type": "code",
   "execution_count": 5,
   "id": "d2428018",
   "metadata": {
    "execution": {
     "iopub.execute_input": "2024-11-18T03:21:37.668000Z",
     "iopub.status.busy": "2024-11-18T03:21:37.667513Z",
     "iopub.status.idle": "2024-11-18T03:21:37.674749Z",
     "shell.execute_reply": "2024-11-18T03:21:37.673006Z"
    },
    "papermill": {
     "duration": 0.028058,
     "end_time": "2024-11-18T03:21:37.677637",
     "exception": false,
     "start_time": "2024-11-18T03:21:37.649579",
     "status": "completed"
    },
    "tags": []
   },
   "outputs": [
    {
     "name": "stdout",
     "output_type": "stream",
     "text": [
      "The Shape of the Dataframe is: (565292, 787)\n",
      "Number of Samples: 565292\n"
     ]
    }
   ],
   "source": [
    "# printing the shape of a dataframe \n",
    "#the number of samples in the dataframe.\n",
    "print(f\"The Shape of the Dataframe is: {data_g.shape}\")\n",
    "print(f\"Number of Samples: {data_g.shape[0]}\")"
   ]
  },
  {
   "cell_type": "code",
   "execution_count": 6,
   "id": "28f466f3",
   "metadata": {
    "execution": {
     "iopub.execute_input": "2024-11-18T03:21:37.712742Z",
     "iopub.status.busy": "2024-11-18T03:21:37.712236Z",
     "iopub.status.idle": "2024-11-18T03:21:37.778400Z",
     "shell.execute_reply": "2024-11-18T03:21:37.776980Z"
    },
    "papermill": {
     "duration": 0.086882,
     "end_time": "2024-11-18T03:21:37.781202",
     "exception": false,
     "start_time": "2024-11-18T03:21:37.694320",
     "status": "completed"
    },
    "tags": []
   },
   "outputs": [
    {
     "name": "stdout",
     "output_type": "stream",
     "text": [
      "Number of unique characters present in the Dataset: 1819\n"
     ]
    }
   ],
   "source": [
    "# Number of unique character in the Dataset\n",
    "print(f\"Number of unique characters present in the Dataset: {len(data_g.label.unique())}\") \n"
   ]
  },
  {
   "cell_type": "code",
   "execution_count": 7,
   "id": "9c8f5b9a",
   "metadata": {
    "execution": {
     "iopub.execute_input": "2024-11-18T03:21:37.816264Z",
     "iopub.status.busy": "2024-11-18T03:21:37.815296Z",
     "iopub.status.idle": "2024-11-18T03:21:50.646275Z",
     "shell.execute_reply": "2024-11-18T03:21:50.644979Z"
    },
    "papermill": {
     "duration": 12.851688,
     "end_time": "2024-11-18T03:21:50.649220",
     "exception": false,
     "start_time": "2024-11-18T03:21:37.797532",
     "status": "completed"
    },
    "tags": []
   },
   "outputs": [
    {
     "data": {
      "text/html": [
       "<div>\n",
       "<style scoped>\n",
       "    .dataframe tbody tr th:only-of-type {\n",
       "        vertical-align: middle;\n",
       "    }\n",
       "\n",
       "    .dataframe tbody tr th {\n",
       "        vertical-align: top;\n",
       "    }\n",
       "\n",
       "    .dataframe thead th {\n",
       "        text-align: right;\n",
       "    }\n",
       "</style>\n",
       "<table border=\"1\" class=\"dataframe\">\n",
       "  <thead>\n",
       "    <tr style=\"text-align: right;\">\n",
       "      <th></th>\n",
       "      <th>count</th>\n",
       "      <th>mean</th>\n",
       "      <th>std</th>\n",
       "      <th>min</th>\n",
       "      <th>25%</th>\n",
       "      <th>50%</th>\n",
       "      <th>75%</th>\n",
       "      <th>max</th>\n",
       "    </tr>\n",
       "  </thead>\n",
       "  <tbody>\n",
       "    <tr>\n",
       "      <th>1</th>\n",
       "      <td>565292.0</td>\n",
       "      <td>0.000000</td>\n",
       "      <td>0.000000</td>\n",
       "      <td>0.0</td>\n",
       "      <td>0.0</td>\n",
       "      <td>0.0</td>\n",
       "      <td>0.0</td>\n",
       "      <td>0.0</td>\n",
       "    </tr>\n",
       "    <tr>\n",
       "      <th>2</th>\n",
       "      <td>565292.0</td>\n",
       "      <td>0.000000</td>\n",
       "      <td>0.000000</td>\n",
       "      <td>0.0</td>\n",
       "      <td>0.0</td>\n",
       "      <td>0.0</td>\n",
       "      <td>0.0</td>\n",
       "      <td>0.0</td>\n",
       "    </tr>\n",
       "    <tr>\n",
       "      <th>3</th>\n",
       "      <td>565292.0</td>\n",
       "      <td>0.000000</td>\n",
       "      <td>0.000000</td>\n",
       "      <td>0.0</td>\n",
       "      <td>0.0</td>\n",
       "      <td>0.0</td>\n",
       "      <td>0.0</td>\n",
       "      <td>0.0</td>\n",
       "    </tr>\n",
       "    <tr>\n",
       "      <th>4</th>\n",
       "      <td>565292.0</td>\n",
       "      <td>0.000000</td>\n",
       "      <td>0.000000</td>\n",
       "      <td>0.0</td>\n",
       "      <td>0.0</td>\n",
       "      <td>0.0</td>\n",
       "      <td>0.0</td>\n",
       "      <td>0.0</td>\n",
       "    </tr>\n",
       "    <tr>\n",
       "      <th>5</th>\n",
       "      <td>565292.0</td>\n",
       "      <td>0.000000</td>\n",
       "      <td>0.000000</td>\n",
       "      <td>0.0</td>\n",
       "      <td>0.0</td>\n",
       "      <td>0.0</td>\n",
       "      <td>0.0</td>\n",
       "      <td>0.0</td>\n",
       "    </tr>\n",
       "    <tr>\n",
       "      <th>...</th>\n",
       "      <td>...</td>\n",
       "      <td>...</td>\n",
       "      <td>...</td>\n",
       "      <td>...</td>\n",
       "      <td>...</td>\n",
       "      <td>...</td>\n",
       "      <td>...</td>\n",
       "      <td>...</td>\n",
       "    </tr>\n",
       "    <tr>\n",
       "      <th>780</th>\n",
       "      <td>565292.0</td>\n",
       "      <td>0.000930</td>\n",
       "      <td>0.299473</td>\n",
       "      <td>0.0</td>\n",
       "      <td>0.0</td>\n",
       "      <td>0.0</td>\n",
       "      <td>0.0</td>\n",
       "      <td>148.0</td>\n",
       "    </tr>\n",
       "    <tr>\n",
       "      <th>781</th>\n",
       "      <td>565292.0</td>\n",
       "      <td>0.000616</td>\n",
       "      <td>0.312884</td>\n",
       "      <td>0.0</td>\n",
       "      <td>0.0</td>\n",
       "      <td>0.0</td>\n",
       "      <td>0.0</td>\n",
       "      <td>217.0</td>\n",
       "    </tr>\n",
       "    <tr>\n",
       "      <th>782</th>\n",
       "      <td>565292.0</td>\n",
       "      <td>0.000191</td>\n",
       "      <td>0.131976</td>\n",
       "      <td>0.0</td>\n",
       "      <td>0.0</td>\n",
       "      <td>0.0</td>\n",
       "      <td>0.0</td>\n",
       "      <td>99.0</td>\n",
       "    </tr>\n",
       "    <tr>\n",
       "      <th>783</th>\n",
       "      <td>565292.0</td>\n",
       "      <td>0.000016</td>\n",
       "      <td>0.008922</td>\n",
       "      <td>0.0</td>\n",
       "      <td>0.0</td>\n",
       "      <td>0.0</td>\n",
       "      <td>0.0</td>\n",
       "      <td>6.0</td>\n",
       "    </tr>\n",
       "    <tr>\n",
       "      <th>784</th>\n",
       "      <td>565292.0</td>\n",
       "      <td>0.000000</td>\n",
       "      <td>0.000000</td>\n",
       "      <td>0.0</td>\n",
       "      <td>0.0</td>\n",
       "      <td>0.0</td>\n",
       "      <td>0.0</td>\n",
       "      <td>0.0</td>\n",
       "    </tr>\n",
       "  </tbody>\n",
       "</table>\n",
       "<p>784 rows × 8 columns</p>\n",
       "</div>"
      ],
      "text/plain": [
       "        count      mean       std  min  25%  50%  75%    max\n",
       "1    565292.0  0.000000  0.000000  0.0  0.0  0.0  0.0    0.0\n",
       "2    565292.0  0.000000  0.000000  0.0  0.0  0.0  0.0    0.0\n",
       "3    565292.0  0.000000  0.000000  0.0  0.0  0.0  0.0    0.0\n",
       "4    565292.0  0.000000  0.000000  0.0  0.0  0.0  0.0    0.0\n",
       "5    565292.0  0.000000  0.000000  0.0  0.0  0.0  0.0    0.0\n",
       "..        ...       ...       ...  ...  ...  ...  ...    ...\n",
       "780  565292.0  0.000930  0.299473  0.0  0.0  0.0  0.0  148.0\n",
       "781  565292.0  0.000616  0.312884  0.0  0.0  0.0  0.0  217.0\n",
       "782  565292.0  0.000191  0.131976  0.0  0.0  0.0  0.0   99.0\n",
       "783  565292.0  0.000016  0.008922  0.0  0.0  0.0  0.0    6.0\n",
       "784  565292.0  0.000000  0.000000  0.0  0.0  0.0  0.0    0.0\n",
       "\n",
       "[784 rows x 8 columns]"
      ]
     },
     "execution_count": 7,
     "metadata": {},
     "output_type": "execute_result"
    }
   ],
   "source": [
    "data_g.describe().T"
   ]
  },
  {
   "cell_type": "markdown",
   "id": "54db3a1c",
   "metadata": {
    "papermill": {
     "duration": 0.016343,
     "end_time": "2024-11-18T03:21:50.683391",
     "exception": false,
     "start_time": "2024-11-18T03:21:50.667048",
     "status": "completed"
    },
    "tags": []
   },
   "source": [
    "### ****Let us check for the null values****"
   ]
  },
  {
   "cell_type": "code",
   "execution_count": 8,
   "id": "e393ce3b",
   "metadata": {
    "execution": {
     "iopub.execute_input": "2024-11-18T03:21:50.720568Z",
     "iopub.status.busy": "2024-11-18T03:21:50.720119Z",
     "iopub.status.idle": "2024-11-18T03:21:51.291919Z",
     "shell.execute_reply": "2024-11-18T03:21:51.290345Z"
    },
    "papermill": {
     "duration": 0.592948,
     "end_time": "2024-11-18T03:21:51.294902",
     "exception": false,
     "start_time": "2024-11-18T03:21:50.701954",
     "status": "completed"
    },
    "tags": []
   },
   "outputs": [
    {
     "name": "stdout",
     "output_type": "stream",
     "text": [
      "font_name     0\n",
      "glyph_name    0\n",
      "label         0\n",
      "1             0\n",
      "2             0\n",
      "             ..\n",
      "780           0\n",
      "781           0\n",
      "782           0\n",
      "783           0\n",
      "784           0\n",
      "Length: 787, dtype: int64\n"
     ]
    }
   ],
   "source": [
    "print(data_g.isnull().sum())"
   ]
  },
  {
   "cell_type": "markdown",
   "id": "5cdfbb5c",
   "metadata": {
    "papermill": {
     "duration": 0.016911,
     "end_time": "2024-11-18T03:21:51.328724",
     "exception": false,
     "start_time": "2024-11-18T03:21:51.311813",
     "status": "completed"
    },
    "tags": []
   },
   "source": [
    "### **Alphanumeric and Symbols List**"
   ]
  },
  {
   "cell_type": "code",
   "execution_count": 9,
   "id": "eb7d5e29",
   "metadata": {
    "execution": {
     "iopub.execute_input": "2024-11-18T03:21:51.364058Z",
     "iopub.status.busy": "2024-11-18T03:21:51.363615Z",
     "iopub.status.idle": "2024-11-18T03:21:51.376985Z",
     "shell.execute_reply": "2024-11-18T03:21:51.375727Z"
    },
    "papermill": {
     "duration": 0.034007,
     "end_time": "2024-11-18T03:21:51.379585",
     "exception": false,
     "start_time": "2024-11-18T03:21:51.345578",
     "status": "completed"
    },
    "tags": []
   },
   "outputs": [
    {
     "data": {
      "text/plain": [
       "94"
      ]
     },
     "execution_count": 9,
     "metadata": {},
     "output_type": "execute_result"
    }
   ],
   "source": [
    "# Alphanumeric and Symbols List\n",
    "\n",
    "symbs = ['0', '1', '2', '3', '4', '5', '6', '7', '8', '9',\n",
    "         'A', 'B', 'C', 'D', 'E', 'F', 'G', 'H', 'I', 'J', 'K', 'L', 'M', 'N', 'O', 'P', 'Q', 'R', 'S', 'T', 'U', 'V', 'W', 'X', 'Y', 'Z',\n",
    "         'a', 'b', 'c', 'd', 'e', 'f', 'g', 'h', 'i', 'j', 'k', 'l', 'm', 'n', 'o', 'p', 'q', 'r', 's', 't', 'u', 'v', 'w', 'x', 'y', 'z',  \n",
    "         '!', '\"', '#', '$', '%', '&', \"'\", '(', ')', '*', '+', ',', '-', '.', '/', ':', ';', '<', '=', '>', '?', '@','[',']','\\\\','^','_','`','{','}',\"|\",'~']\n",
    "\n",
    "len(symbs)"
   ]
  },
  {
   "cell_type": "markdown",
   "id": "7e9e0722",
   "metadata": {
    "papermill": {
     "duration": 0.016588,
     "end_time": "2024-11-18T03:21:51.412805",
     "exception": false,
     "start_time": "2024-11-18T03:21:51.396217",
     "status": "completed"
    },
    "tags": []
   },
   "source": [
    "The code defines a list called symbs containing 94 characters, which includes:\n",
    "\n",
    "- Digits: Numbers from 0 to 9.\n",
    "- Uppercase Letters: A through Z.\n",
    "- Lowercase Letters: a through z.\n",
    "- Special Characters and Punctuation Marks: Symbols such as !, \", #, $, %, &, etc.\n",
    "\n",
    "- The length of the list is determined using the len(symbs) function, which confirms that it contains 94 elements. This list serves as the set of characters that the neural network model in the notebook is designed to recognize or process.\n",
    "\n",
    "\n",
    "\n",
    "\n",
    "\n",
    "\n"
   ]
  },
  {
   "cell_type": "code",
   "execution_count": 10,
   "id": "0e7db526",
   "metadata": {
    "execution": {
     "iopub.execute_input": "2024-11-18T03:21:51.448324Z",
     "iopub.status.busy": "2024-11-18T03:21:51.447892Z",
     "iopub.status.idle": "2024-11-18T03:21:51.454129Z",
     "shell.execute_reply": "2024-11-18T03:21:51.452903Z"
    },
    "papermill": {
     "duration": 0.027172,
     "end_time": "2024-11-18T03:21:51.456942",
     "exception": false,
     "start_time": "2024-11-18T03:21:51.429770",
     "status": "completed"
    },
    "tags": []
   },
   "outputs": [],
   "source": [
    "M=list(range(len(symbs)))\n",
    "normal_mapping=dict(zip(symbs,M)) \n",
    "reverse_mapping=dict(zip(M,symbs)) "
   ]
  },
  {
   "cell_type": "markdown",
   "id": "dcfd81a5",
   "metadata": {
    "papermill": {
     "duration": 0.016568,
     "end_time": "2024-11-18T03:21:51.490329",
     "exception": false,
     "start_time": "2024-11-18T03:21:51.473761",
     "status": "completed"
    },
    "tags": []
   },
   "source": [
    "- **Mapping**\n",
    "Mapping defines relationships between elements of different sets, often represented as functions that connect each element in one set to a specific element in another. It plays a crucial role in data transformation and establishing correspondences across various domains.\n",
    "\n",
    "- **Normal Mapping**\n",
    "Normal mapping, a technique in computer graphics, enhances flat surfaces by simulating detailed textures. It modifies how light interacts with pixels, leveraging a texture that encodes surface normal directions. This creates the illusion of depth and detail without increasing geometric complexity.\n",
    "\n",
    "- **Reverse Mapping**\n",
    "Reverse mapping involves retrieving original inputs or states from given outputs or effects. This process is vital for tasks like analysis, debugging, or reconstructing original data from transformed outputs in various fields."
   ]
  },
  {
   "cell_type": "markdown",
   "id": "33ad0519",
   "metadata": {
    "papermill": {
     "duration": 0.017453,
     "end_time": "2024-11-18T03:21:51.524556",
     "exception": false,
     "start_time": "2024-11-18T03:21:51.507103",
     "status": "completed"
    },
    "tags": []
   },
   "source": [
    "## **Dataframe Filtering**"
   ]
  },
  {
   "cell_type": "code",
   "execution_count": 11,
   "id": "536f749c",
   "metadata": {
    "execution": {
     "iopub.execute_input": "2024-11-18T03:21:51.560591Z",
     "iopub.status.busy": "2024-11-18T03:21:51.560123Z",
     "iopub.status.idle": "2024-11-18T03:21:52.436381Z",
     "shell.execute_reply": "2024-11-18T03:21:52.434606Z"
    },
    "papermill": {
     "duration": 0.90163,
     "end_time": "2024-11-18T03:21:52.443514",
     "exception": false,
     "start_time": "2024-11-18T03:21:51.541884",
     "status": "completed"
    },
    "tags": []
   },
   "outputs": [],
   "source": [
    "data_g = data_g[data_g.label.isin(symbs)]"
   ]
  },
  {
   "cell_type": "code",
   "execution_count": 12,
   "id": "659aa0dd",
   "metadata": {
    "execution": {
     "iopub.execute_input": "2024-11-18T03:21:52.487173Z",
     "iopub.status.busy": "2024-11-18T03:21:52.486720Z",
     "iopub.status.idle": "2024-11-18T03:21:59.297121Z",
     "shell.execute_reply": "2024-11-18T03:21:59.295699Z"
    },
    "papermill": {
     "duration": 6.835413,
     "end_time": "2024-11-18T03:21:59.301167",
     "exception": false,
     "start_time": "2024-11-18T03:21:52.465754",
     "status": "completed"
    },
    "tags": []
   },
   "outputs": [
    {
     "data": {
      "text/html": [
       "<div>\n",
       "<style scoped>\n",
       "    .dataframe tbody tr th:only-of-type {\n",
       "        vertical-align: middle;\n",
       "    }\n",
       "\n",
       "    .dataframe tbody tr th {\n",
       "        vertical-align: top;\n",
       "    }\n",
       "\n",
       "    .dataframe thead th {\n",
       "        text-align: right;\n",
       "    }\n",
       "</style>\n",
       "<table border=\"1\" class=\"dataframe\">\n",
       "  <thead>\n",
       "    <tr style=\"text-align: right;\">\n",
       "      <th></th>\n",
       "      <th>count</th>\n",
       "      <th>mean</th>\n",
       "      <th>std</th>\n",
       "      <th>min</th>\n",
       "      <th>25%</th>\n",
       "      <th>50%</th>\n",
       "      <th>75%</th>\n",
       "      <th>max</th>\n",
       "    </tr>\n",
       "  </thead>\n",
       "  <tbody>\n",
       "    <tr>\n",
       "      <th>1</th>\n",
       "      <td>272541.0</td>\n",
       "      <td>0.000000</td>\n",
       "      <td>0.000000</td>\n",
       "      <td>0.0</td>\n",
       "      <td>0.0</td>\n",
       "      <td>0.0</td>\n",
       "      <td>0.0</td>\n",
       "      <td>0.0</td>\n",
       "    </tr>\n",
       "    <tr>\n",
       "      <th>2</th>\n",
       "      <td>272541.0</td>\n",
       "      <td>0.000000</td>\n",
       "      <td>0.000000</td>\n",
       "      <td>0.0</td>\n",
       "      <td>0.0</td>\n",
       "      <td>0.0</td>\n",
       "      <td>0.0</td>\n",
       "      <td>0.0</td>\n",
       "    </tr>\n",
       "    <tr>\n",
       "      <th>3</th>\n",
       "      <td>272541.0</td>\n",
       "      <td>0.000000</td>\n",
       "      <td>0.000000</td>\n",
       "      <td>0.0</td>\n",
       "      <td>0.0</td>\n",
       "      <td>0.0</td>\n",
       "      <td>0.0</td>\n",
       "      <td>0.0</td>\n",
       "    </tr>\n",
       "    <tr>\n",
       "      <th>4</th>\n",
       "      <td>272541.0</td>\n",
       "      <td>0.000000</td>\n",
       "      <td>0.000000</td>\n",
       "      <td>0.0</td>\n",
       "      <td>0.0</td>\n",
       "      <td>0.0</td>\n",
       "      <td>0.0</td>\n",
       "      <td>0.0</td>\n",
       "    </tr>\n",
       "    <tr>\n",
       "      <th>5</th>\n",
       "      <td>272541.0</td>\n",
       "      <td>0.000000</td>\n",
       "      <td>0.000000</td>\n",
       "      <td>0.0</td>\n",
       "      <td>0.0</td>\n",
       "      <td>0.0</td>\n",
       "      <td>0.0</td>\n",
       "      <td>0.0</td>\n",
       "    </tr>\n",
       "    <tr>\n",
       "      <th>...</th>\n",
       "      <td>...</td>\n",
       "      <td>...</td>\n",
       "      <td>...</td>\n",
       "      <td>...</td>\n",
       "      <td>...</td>\n",
       "      <td>...</td>\n",
       "      <td>...</td>\n",
       "      <td>...</td>\n",
       "    </tr>\n",
       "    <tr>\n",
       "      <th>780</th>\n",
       "      <td>272541.0</td>\n",
       "      <td>0.000257</td>\n",
       "      <td>0.059226</td>\n",
       "      <td>0.0</td>\n",
       "      <td>0.0</td>\n",
       "      <td>0.0</td>\n",
       "      <td>0.0</td>\n",
       "      <td>20.0</td>\n",
       "    </tr>\n",
       "    <tr>\n",
       "      <th>781</th>\n",
       "      <td>272541.0</td>\n",
       "      <td>0.000143</td>\n",
       "      <td>0.042445</td>\n",
       "      <td>0.0</td>\n",
       "      <td>0.0</td>\n",
       "      <td>0.0</td>\n",
       "      <td>0.0</td>\n",
       "      <td>19.0</td>\n",
       "    </tr>\n",
       "    <tr>\n",
       "      <th>782</th>\n",
       "      <td>272541.0</td>\n",
       "      <td>0.000033</td>\n",
       "      <td>0.012850</td>\n",
       "      <td>0.0</td>\n",
       "      <td>0.0</td>\n",
       "      <td>0.0</td>\n",
       "      <td>0.0</td>\n",
       "      <td>6.0</td>\n",
       "    </tr>\n",
       "    <tr>\n",
       "      <th>783</th>\n",
       "      <td>272541.0</td>\n",
       "      <td>0.000033</td>\n",
       "      <td>0.012850</td>\n",
       "      <td>0.0</td>\n",
       "      <td>0.0</td>\n",
       "      <td>0.0</td>\n",
       "      <td>0.0</td>\n",
       "      <td>6.0</td>\n",
       "    </tr>\n",
       "    <tr>\n",
       "      <th>784</th>\n",
       "      <td>272541.0</td>\n",
       "      <td>0.000000</td>\n",
       "      <td>0.000000</td>\n",
       "      <td>0.0</td>\n",
       "      <td>0.0</td>\n",
       "      <td>0.0</td>\n",
       "      <td>0.0</td>\n",
       "      <td>0.0</td>\n",
       "    </tr>\n",
       "  </tbody>\n",
       "</table>\n",
       "<p>784 rows × 8 columns</p>\n",
       "</div>"
      ],
      "text/plain": [
       "        count      mean       std  min  25%  50%  75%   max\n",
       "1    272541.0  0.000000  0.000000  0.0  0.0  0.0  0.0   0.0\n",
       "2    272541.0  0.000000  0.000000  0.0  0.0  0.0  0.0   0.0\n",
       "3    272541.0  0.000000  0.000000  0.0  0.0  0.0  0.0   0.0\n",
       "4    272541.0  0.000000  0.000000  0.0  0.0  0.0  0.0   0.0\n",
       "5    272541.0  0.000000  0.000000  0.0  0.0  0.0  0.0   0.0\n",
       "..        ...       ...       ...  ...  ...  ...  ...   ...\n",
       "780  272541.0  0.000257  0.059226  0.0  0.0  0.0  0.0  20.0\n",
       "781  272541.0  0.000143  0.042445  0.0  0.0  0.0  0.0  19.0\n",
       "782  272541.0  0.000033  0.012850  0.0  0.0  0.0  0.0   6.0\n",
       "783  272541.0  0.000033  0.012850  0.0  0.0  0.0  0.0   6.0\n",
       "784  272541.0  0.000000  0.000000  0.0  0.0  0.0  0.0   0.0\n",
       "\n",
       "[784 rows x 8 columns]"
      ]
     },
     "execution_count": 12,
     "metadata": {},
     "output_type": "execute_result"
    }
   ],
   "source": [
    "data_g.describe().T"
   ]
  },
  {
   "cell_type": "code",
   "execution_count": 13,
   "id": "da6c7b19",
   "metadata": {
    "execution": {
     "iopub.execute_input": "2024-11-18T03:21:59.338189Z",
     "iopub.status.busy": "2024-11-18T03:21:59.337728Z",
     "iopub.status.idle": "2024-11-18T03:21:59.415905Z",
     "shell.execute_reply": "2024-11-18T03:21:59.414320Z"
    },
    "papermill": {
     "duration": 0.101299,
     "end_time": "2024-11-18T03:21:59.420039",
     "exception": false,
     "start_time": "2024-11-18T03:21:59.318740",
     "status": "completed"
    },
    "tags": []
   },
   "outputs": [
    {
     "name": "stdout",
     "output_type": "stream",
     "text": [
      "<class 'pandas.core.frame.DataFrame'>\n",
      "Index: 272541 entries, 0 to 565291\n",
      "Data columns (total 787 columns):\n",
      " #    Column      Dtype \n",
      "---   ------      ----- \n",
      " 0    font_name   object\n",
      " 1    glyph_name  object\n",
      " 2    label       object\n",
      " 3    1           int64 \n",
      " 4    2           int64 \n",
      " 5    3           int64 \n",
      " 6    4           int64 \n",
      " 7    5           int64 \n",
      " 8    6           int64 \n",
      " 9    7           int64 \n",
      " 10   8           int64 \n",
      " 11   9           int64 \n",
      " 12   10          int64 \n",
      " 13   11          int64 \n",
      " 14   12          int64 \n",
      " 15   13          int64 \n",
      " 16   14          int64 \n",
      " 17   15          int64 \n",
      " 18   16          int64 \n",
      " 19   17          int64 \n",
      " 20   18          int64 \n",
      " 21   19          int64 \n",
      " 22   20          int64 \n",
      " 23   21          int64 \n",
      " 24   22          int64 \n",
      " 25   23          int64 \n",
      " 26   24          int64 \n",
      " 27   25          int64 \n",
      " 28   26          int64 \n",
      " 29   27          int64 \n",
      " 30   28          int64 \n",
      " 31   29          int64 \n",
      " 32   30          int64 \n",
      " 33   31          int64 \n",
      " 34   32          int64 \n",
      " 35   33          int64 \n",
      " 36   34          int64 \n",
      " 37   35          int64 \n",
      " 38   36          int64 \n",
      " 39   37          int64 \n",
      " 40   38          int64 \n",
      " 41   39          int64 \n",
      " 42   40          int64 \n",
      " 43   41          int64 \n",
      " 44   42          int64 \n",
      " 45   43          int64 \n",
      " 46   44          int64 \n",
      " 47   45          int64 \n",
      " 48   46          int64 \n",
      " 49   47          int64 \n",
      " 50   48          int64 \n",
      " 51   49          int64 \n",
      " 52   50          int64 \n",
      " 53   51          int64 \n",
      " 54   52          int64 \n",
      " 55   53          int64 \n",
      " 56   54          int64 \n",
      " 57   55          int64 \n",
      " 58   56          int64 \n",
      " 59   57          int64 \n",
      " 60   58          int64 \n",
      " 61   59          int64 \n",
      " 62   60          int64 \n",
      " 63   61          int64 \n",
      " 64   62          int64 \n",
      " 65   63          int64 \n",
      " 66   64          int64 \n",
      " 67   65          int64 \n",
      " 68   66          int64 \n",
      " 69   67          int64 \n",
      " 70   68          int64 \n",
      " 71   69          int64 \n",
      " 72   70          int64 \n",
      " 73   71          int64 \n",
      " 74   72          int64 \n",
      " 75   73          int64 \n",
      " 76   74          int64 \n",
      " 77   75          int64 \n",
      " 78   76          int64 \n",
      " 79   77          int64 \n",
      " 80   78          int64 \n",
      " 81   79          int64 \n",
      " 82   80          int64 \n",
      " 83   81          int64 \n",
      " 84   82          int64 \n",
      " 85   83          int64 \n",
      " 86   84          int64 \n",
      " 87   85          int64 \n",
      " 88   86          int64 \n",
      " 89   87          int64 \n",
      " 90   88          int64 \n",
      " 91   89          int64 \n",
      " 92   90          int64 \n",
      " 93   91          int64 \n",
      " 94   92          int64 \n",
      " 95   93          int64 \n",
      " 96   94          int64 \n",
      " 97   95          int64 \n",
      " 98   96          int64 \n",
      " 99   97          int64 \n",
      " 100  98          int64 \n",
      " 101  99          int64 \n",
      " 102  100         int64 \n",
      " 103  101         int64 \n",
      " 104  102         int64 \n",
      " 105  103         int64 \n",
      " 106  104         int64 \n",
      " 107  105         int64 \n",
      " 108  106         int64 \n",
      " 109  107         int64 \n",
      " 110  108         int64 \n",
      " 111  109         int64 \n",
      " 112  110         int64 \n",
      " 113  111         int64 \n",
      " 114  112         int64 \n",
      " 115  113         int64 \n",
      " 116  114         int64 \n",
      " 117  115         int64 \n",
      " 118  116         int64 \n",
      " 119  117         int64 \n",
      " 120  118         int64 \n",
      " 121  119         int64 \n",
      " 122  120         int64 \n",
      " 123  121         int64 \n",
      " 124  122         int64 \n",
      " 125  123         int64 \n",
      " 126  124         int64 \n",
      " 127  125         int64 \n",
      " 128  126         int64 \n",
      " 129  127         int64 \n",
      " 130  128         int64 \n",
      " 131  129         int64 \n",
      " 132  130         int64 \n",
      " 133  131         int64 \n",
      " 134  132         int64 \n",
      " 135  133         int64 \n",
      " 136  134         int64 \n",
      " 137  135         int64 \n",
      " 138  136         int64 \n",
      " 139  137         int64 \n",
      " 140  138         int64 \n",
      " 141  139         int64 \n",
      " 142  140         int64 \n",
      " 143  141         int64 \n",
      " 144  142         int64 \n",
      " 145  143         int64 \n",
      " 146  144         int64 \n",
      " 147  145         int64 \n",
      " 148  146         int64 \n",
      " 149  147         int64 \n",
      " 150  148         int64 \n",
      " 151  149         int64 \n",
      " 152  150         int64 \n",
      " 153  151         int64 \n",
      " 154  152         int64 \n",
      " 155  153         int64 \n",
      " 156  154         int64 \n",
      " 157  155         int64 \n",
      " 158  156         int64 \n",
      " 159  157         int64 \n",
      " 160  158         int64 \n",
      " 161  159         int64 \n",
      " 162  160         int64 \n",
      " 163  161         int64 \n",
      " 164  162         int64 \n",
      " 165  163         int64 \n",
      " 166  164         int64 \n",
      " 167  165         int64 \n",
      " 168  166         int64 \n",
      " 169  167         int64 \n",
      " 170  168         int64 \n",
      " 171  169         int64 \n",
      " 172  170         int64 \n",
      " 173  171         int64 \n",
      " 174  172         int64 \n",
      " 175  173         int64 \n",
      " 176  174         int64 \n",
      " 177  175         int64 \n",
      " 178  176         int64 \n",
      " 179  177         int64 \n",
      " 180  178         int64 \n",
      " 181  179         int64 \n",
      " 182  180         int64 \n",
      " 183  181         int64 \n",
      " 184  182         int64 \n",
      " 185  183         int64 \n",
      " 186  184         int64 \n",
      " 187  185         int64 \n",
      " 188  186         int64 \n",
      " 189  187         int64 \n",
      " 190  188         int64 \n",
      " 191  189         int64 \n",
      " 192  190         int64 \n",
      " 193  191         int64 \n",
      " 194  192         int64 \n",
      " 195  193         int64 \n",
      " 196  194         int64 \n",
      " 197  195         int64 \n",
      " 198  196         int64 \n",
      " 199  197         int64 \n",
      " 200  198         int64 \n",
      " 201  199         int64 \n",
      " 202  200         int64 \n",
      " 203  201         int64 \n",
      " 204  202         int64 \n",
      " 205  203         int64 \n",
      " 206  204         int64 \n",
      " 207  205         int64 \n",
      " 208  206         int64 \n",
      " 209  207         int64 \n",
      " 210  208         int64 \n",
      " 211  209         int64 \n",
      " 212  210         int64 \n",
      " 213  211         int64 \n",
      " 214  212         int64 \n",
      " 215  213         int64 \n",
      " 216  214         int64 \n",
      " 217  215         int64 \n",
      " 218  216         int64 \n",
      " 219  217         int64 \n",
      " 220  218         int64 \n",
      " 221  219         int64 \n",
      " 222  220         int64 \n",
      " 223  221         int64 \n",
      " 224  222         int64 \n",
      " 225  223         int64 \n",
      " 226  224         int64 \n",
      " 227  225         int64 \n",
      " 228  226         int64 \n",
      " 229  227         int64 \n",
      " 230  228         int64 \n",
      " 231  229         int64 \n",
      " 232  230         int64 \n",
      " 233  231         int64 \n",
      " 234  232         int64 \n",
      " 235  233         int64 \n",
      " 236  234         int64 \n",
      " 237  235         int64 \n",
      " 238  236         int64 \n",
      " 239  237         int64 \n",
      " 240  238         int64 \n",
      " 241  239         int64 \n",
      " 242  240         int64 \n",
      " 243  241         int64 \n",
      " 244  242         int64 \n",
      " 245  243         int64 \n",
      " 246  244         int64 \n",
      " 247  245         int64 \n",
      " 248  246         int64 \n",
      " 249  247         int64 \n",
      " 250  248         int64 \n",
      " 251  249         int64 \n",
      " 252  250         int64 \n",
      " 253  251         int64 \n",
      " 254  252         int64 \n",
      " 255  253         int64 \n",
      " 256  254         int64 \n",
      " 257  255         int64 \n",
      " 258  256         int64 \n",
      " 259  257         int64 \n",
      " 260  258         int64 \n",
      " 261  259         int64 \n",
      " 262  260         int64 \n",
      " 263  261         int64 \n",
      " 264  262         int64 \n",
      " 265  263         int64 \n",
      " 266  264         int64 \n",
      " 267  265         int64 \n",
      " 268  266         int64 \n",
      " 269  267         int64 \n",
      " 270  268         int64 \n",
      " 271  269         int64 \n",
      " 272  270         int64 \n",
      " 273  271         int64 \n",
      " 274  272         int64 \n",
      " 275  273         int64 \n",
      " 276  274         int64 \n",
      " 277  275         int64 \n",
      " 278  276         int64 \n",
      " 279  277         int64 \n",
      " 280  278         int64 \n",
      " 281  279         int64 \n",
      " 282  280         int64 \n",
      " 283  281         int64 \n",
      " 284  282         int64 \n",
      " 285  283         int64 \n",
      " 286  284         int64 \n",
      " 287  285         int64 \n",
      " 288  286         int64 \n",
      " 289  287         int64 \n",
      " 290  288         int64 \n",
      " 291  289         int64 \n",
      " 292  290         int64 \n",
      " 293  291         int64 \n",
      " 294  292         int64 \n",
      " 295  293         int64 \n",
      " 296  294         int64 \n",
      " 297  295         int64 \n",
      " 298  296         int64 \n",
      " 299  297         int64 \n",
      " 300  298         int64 \n",
      " 301  299         int64 \n",
      " 302  300         int64 \n",
      " 303  301         int64 \n",
      " 304  302         int64 \n",
      " 305  303         int64 \n",
      " 306  304         int64 \n",
      " 307  305         int64 \n",
      " 308  306         int64 \n",
      " 309  307         int64 \n",
      " 310  308         int64 \n",
      " 311  309         int64 \n",
      " 312  310         int64 \n",
      " 313  311         int64 \n",
      " 314  312         int64 \n",
      " 315  313         int64 \n",
      " 316  314         int64 \n",
      " 317  315         int64 \n",
      " 318  316         int64 \n",
      " 319  317         int64 \n",
      " 320  318         int64 \n",
      " 321  319         int64 \n",
      " 322  320         int64 \n",
      " 323  321         int64 \n",
      " 324  322         int64 \n",
      " 325  323         int64 \n",
      " 326  324         int64 \n",
      " 327  325         int64 \n",
      " 328  326         int64 \n",
      " 329  327         int64 \n",
      " 330  328         int64 \n",
      " 331  329         int64 \n",
      " 332  330         int64 \n",
      " 333  331         int64 \n",
      " 334  332         int64 \n",
      " 335  333         int64 \n",
      " 336  334         int64 \n",
      " 337  335         int64 \n",
      " 338  336         int64 \n",
      " 339  337         int64 \n",
      " 340  338         int64 \n",
      " 341  339         int64 \n",
      " 342  340         int64 \n",
      " 343  341         int64 \n",
      " 344  342         int64 \n",
      " 345  343         int64 \n",
      " 346  344         int64 \n",
      " 347  345         int64 \n",
      " 348  346         int64 \n",
      " 349  347         int64 \n",
      " 350  348         int64 \n",
      " 351  349         int64 \n",
      " 352  350         int64 \n",
      " 353  351         int64 \n",
      " 354  352         int64 \n",
      " 355  353         int64 \n",
      " 356  354         int64 \n",
      " 357  355         int64 \n",
      " 358  356         int64 \n",
      " 359  357         int64 \n",
      " 360  358         int64 \n",
      " 361  359         int64 \n",
      " 362  360         int64 \n",
      " 363  361         int64 \n",
      " 364  362         int64 \n",
      " 365  363         int64 \n",
      " 366  364         int64 \n",
      " 367  365         int64 \n",
      " 368  366         int64 \n",
      " 369  367         int64 \n",
      " 370  368         int64 \n",
      " 371  369         int64 \n",
      " 372  370         int64 \n",
      " 373  371         int64 \n",
      " 374  372         int64 \n",
      " 375  373         int64 \n",
      " 376  374         int64 \n",
      " 377  375         int64 \n",
      " 378  376         int64 \n",
      " 379  377         int64 \n",
      " 380  378         int64 \n",
      " 381  379         int64 \n",
      " 382  380         int64 \n",
      " 383  381         int64 \n",
      " 384  382         int64 \n",
      " 385  383         int64 \n",
      " 386  384         int64 \n",
      " 387  385         int64 \n",
      " 388  386         int64 \n",
      " 389  387         int64 \n",
      " 390  388         int64 \n",
      " 391  389         int64 \n",
      " 392  390         int64 \n",
      " 393  391         int64 \n",
      " 394  392         int64 \n",
      " 395  393         int64 \n",
      " 396  394         int64 \n",
      " 397  395         int64 \n",
      " 398  396         int64 \n",
      " 399  397         int64 \n",
      " 400  398         int64 \n",
      " 401  399         int64 \n",
      " 402  400         int64 \n",
      " 403  401         int64 \n",
      " 404  402         int64 \n",
      " 405  403         int64 \n",
      " 406  404         int64 \n",
      " 407  405         int64 \n",
      " 408  406         int64 \n",
      " 409  407         int64 \n",
      " 410  408         int64 \n",
      " 411  409         int64 \n",
      " 412  410         int64 \n",
      " 413  411         int64 \n",
      " 414  412         int64 \n",
      " 415  413         int64 \n",
      " 416  414         int64 \n",
      " 417  415         int64 \n",
      " 418  416         int64 \n",
      " 419  417         int64 \n",
      " 420  418         int64 \n",
      " 421  419         int64 \n",
      " 422  420         int64 \n",
      " 423  421         int64 \n",
      " 424  422         int64 \n",
      " 425  423         int64 \n",
      " 426  424         int64 \n",
      " 427  425         int64 \n",
      " 428  426         int64 \n",
      " 429  427         int64 \n",
      " 430  428         int64 \n",
      " 431  429         int64 \n",
      " 432  430         int64 \n",
      " 433  431         int64 \n",
      " 434  432         int64 \n",
      " 435  433         int64 \n",
      " 436  434         int64 \n",
      " 437  435         int64 \n",
      " 438  436         int64 \n",
      " 439  437         int64 \n",
      " 440  438         int64 \n",
      " 441  439         int64 \n",
      " 442  440         int64 \n",
      " 443  441         int64 \n",
      " 444  442         int64 \n",
      " 445  443         int64 \n",
      " 446  444         int64 \n",
      " 447  445         int64 \n",
      " 448  446         int64 \n",
      " 449  447         int64 \n",
      " 450  448         int64 \n",
      " 451  449         int64 \n",
      " 452  450         int64 \n",
      " 453  451         int64 \n",
      " 454  452         int64 \n",
      " 455  453         int64 \n",
      " 456  454         int64 \n",
      " 457  455         int64 \n",
      " 458  456         int64 \n",
      " 459  457         int64 \n",
      " 460  458         int64 \n",
      " 461  459         int64 \n",
      " 462  460         int64 \n",
      " 463  461         int64 \n",
      " 464  462         int64 \n",
      " 465  463         int64 \n",
      " 466  464         int64 \n",
      " 467  465         int64 \n",
      " 468  466         int64 \n",
      " 469  467         int64 \n",
      " 470  468         int64 \n",
      " 471  469         int64 \n",
      " 472  470         int64 \n",
      " 473  471         int64 \n",
      " 474  472         int64 \n",
      " 475  473         int64 \n",
      " 476  474         int64 \n",
      " 477  475         int64 \n",
      " 478  476         int64 \n",
      " 479  477         int64 \n",
      " 480  478         int64 \n",
      " 481  479         int64 \n",
      " 482  480         int64 \n",
      " 483  481         int64 \n",
      " 484  482         int64 \n",
      " 485  483         int64 \n",
      " 486  484         int64 \n",
      " 487  485         int64 \n",
      " 488  486         int64 \n",
      " 489  487         int64 \n",
      " 490  488         int64 \n",
      " 491  489         int64 \n",
      " 492  490         int64 \n",
      " 493  491         int64 \n",
      " 494  492         int64 \n",
      " 495  493         int64 \n",
      " 496  494         int64 \n",
      " 497  495         int64 \n",
      " 498  496         int64 \n",
      " 499  497         int64 \n",
      " 500  498         int64 \n",
      " 501  499         int64 \n",
      " 502  500         int64 \n",
      " 503  501         int64 \n",
      " 504  502         int64 \n",
      " 505  503         int64 \n",
      " 506  504         int64 \n",
      " 507  505         int64 \n",
      " 508  506         int64 \n",
      " 509  507         int64 \n",
      " 510  508         int64 \n",
      " 511  509         int64 \n",
      " 512  510         int64 \n",
      " 513  511         int64 \n",
      " 514  512         int64 \n",
      " 515  513         int64 \n",
      " 516  514         int64 \n",
      " 517  515         int64 \n",
      " 518  516         int64 \n",
      " 519  517         int64 \n",
      " 520  518         int64 \n",
      " 521  519         int64 \n",
      " 522  520         int64 \n",
      " 523  521         int64 \n",
      " 524  522         int64 \n",
      " 525  523         int64 \n",
      " 526  524         int64 \n",
      " 527  525         int64 \n",
      " 528  526         int64 \n",
      " 529  527         int64 \n",
      " 530  528         int64 \n",
      " 531  529         int64 \n",
      " 532  530         int64 \n",
      " 533  531         int64 \n",
      " 534  532         int64 \n",
      " 535  533         int64 \n",
      " 536  534         int64 \n",
      " 537  535         int64 \n",
      " 538  536         int64 \n",
      " 539  537         int64 \n",
      " 540  538         int64 \n",
      " 541  539         int64 \n",
      " 542  540         int64 \n",
      " 543  541         int64 \n",
      " 544  542         int64 \n",
      " 545  543         int64 \n",
      " 546  544         int64 \n",
      " 547  545         int64 \n",
      " 548  546         int64 \n",
      " 549  547         int64 \n",
      " 550  548         int64 \n",
      " 551  549         int64 \n",
      " 552  550         int64 \n",
      " 553  551         int64 \n",
      " 554  552         int64 \n",
      " 555  553         int64 \n",
      " 556  554         int64 \n",
      " 557  555         int64 \n",
      " 558  556         int64 \n",
      " 559  557         int64 \n",
      " 560  558         int64 \n",
      " 561  559         int64 \n",
      " 562  560         int64 \n",
      " 563  561         int64 \n",
      " 564  562         int64 \n",
      " 565  563         int64 \n",
      " 566  564         int64 \n",
      " 567  565         int64 \n",
      " 568  566         int64 \n",
      " 569  567         int64 \n",
      " 570  568         int64 \n",
      " 571  569         int64 \n",
      " 572  570         int64 \n",
      " 573  571         int64 \n",
      " 574  572         int64 \n",
      " 575  573         int64 \n",
      " 576  574         int64 \n",
      " 577  575         int64 \n",
      " 578  576         int64 \n",
      " 579  577         int64 \n",
      " 580  578         int64 \n",
      " 581  579         int64 \n",
      " 582  580         int64 \n",
      " 583  581         int64 \n",
      " 584  582         int64 \n",
      " 585  583         int64 \n",
      " 586  584         int64 \n",
      " 587  585         int64 \n",
      " 588  586         int64 \n",
      " 589  587         int64 \n",
      " 590  588         int64 \n",
      " 591  589         int64 \n",
      " 592  590         int64 \n",
      " 593  591         int64 \n",
      " 594  592         int64 \n",
      " 595  593         int64 \n",
      " 596  594         int64 \n",
      " 597  595         int64 \n",
      " 598  596         int64 \n",
      " 599  597         int64 \n",
      " 600  598         int64 \n",
      " 601  599         int64 \n",
      " 602  600         int64 \n",
      " 603  601         int64 \n",
      " 604  602         int64 \n",
      " 605  603         int64 \n",
      " 606  604         int64 \n",
      " 607  605         int64 \n",
      " 608  606         int64 \n",
      " 609  607         int64 \n",
      " 610  608         int64 \n",
      " 611  609         int64 \n",
      " 612  610         int64 \n",
      " 613  611         int64 \n",
      " 614  612         int64 \n",
      " 615  613         int64 \n",
      " 616  614         int64 \n",
      " 617  615         int64 \n",
      " 618  616         int64 \n",
      " 619  617         int64 \n",
      " 620  618         int64 \n",
      " 621  619         int64 \n",
      " 622  620         int64 \n",
      " 623  621         int64 \n",
      " 624  622         int64 \n",
      " 625  623         int64 \n",
      " 626  624         int64 \n",
      " 627  625         int64 \n",
      " 628  626         int64 \n",
      " 629  627         int64 \n",
      " 630  628         int64 \n",
      " 631  629         int64 \n",
      " 632  630         int64 \n",
      " 633  631         int64 \n",
      " 634  632         int64 \n",
      " 635  633         int64 \n",
      " 636  634         int64 \n",
      " 637  635         int64 \n",
      " 638  636         int64 \n",
      " 639  637         int64 \n",
      " 640  638         int64 \n",
      " 641  639         int64 \n",
      " 642  640         int64 \n",
      " 643  641         int64 \n",
      " 644  642         int64 \n",
      " 645  643         int64 \n",
      " 646  644         int64 \n",
      " 647  645         int64 \n",
      " 648  646         int64 \n",
      " 649  647         int64 \n",
      " 650  648         int64 \n",
      " 651  649         int64 \n",
      " 652  650         int64 \n",
      " 653  651         int64 \n",
      " 654  652         int64 \n",
      " 655  653         int64 \n",
      " 656  654         int64 \n",
      " 657  655         int64 \n",
      " 658  656         int64 \n",
      " 659  657         int64 \n",
      " 660  658         int64 \n",
      " 661  659         int64 \n",
      " 662  660         int64 \n",
      " 663  661         int64 \n",
      " 664  662         int64 \n",
      " 665  663         int64 \n",
      " 666  664         int64 \n",
      " 667  665         int64 \n",
      " 668  666         int64 \n",
      " 669  667         int64 \n",
      " 670  668         int64 \n",
      " 671  669         int64 \n",
      " 672  670         int64 \n",
      " 673  671         int64 \n",
      " 674  672         int64 \n",
      " 675  673         int64 \n",
      " 676  674         int64 \n",
      " 677  675         int64 \n",
      " 678  676         int64 \n",
      " 679  677         int64 \n",
      " 680  678         int64 \n",
      " 681  679         int64 \n",
      " 682  680         int64 \n",
      " 683  681         int64 \n",
      " 684  682         int64 \n",
      " 685  683         int64 \n",
      " 686  684         int64 \n",
      " 687  685         int64 \n",
      " 688  686         int64 \n",
      " 689  687         int64 \n",
      " 690  688         int64 \n",
      " 691  689         int64 \n",
      " 692  690         int64 \n",
      " 693  691         int64 \n",
      " 694  692         int64 \n",
      " 695  693         int64 \n",
      " 696  694         int64 \n",
      " 697  695         int64 \n",
      " 698  696         int64 \n",
      " 699  697         int64 \n",
      " 700  698         int64 \n",
      " 701  699         int64 \n",
      " 702  700         int64 \n",
      " 703  701         int64 \n",
      " 704  702         int64 \n",
      " 705  703         int64 \n",
      " 706  704         int64 \n",
      " 707  705         int64 \n",
      " 708  706         int64 \n",
      " 709  707         int64 \n",
      " 710  708         int64 \n",
      " 711  709         int64 \n",
      " 712  710         int64 \n",
      " 713  711         int64 \n",
      " 714  712         int64 \n",
      " 715  713         int64 \n",
      " 716  714         int64 \n",
      " 717  715         int64 \n",
      " 718  716         int64 \n",
      " 719  717         int64 \n",
      " 720  718         int64 \n",
      " 721  719         int64 \n",
      " 722  720         int64 \n",
      " 723  721         int64 \n",
      " 724  722         int64 \n",
      " 725  723         int64 \n",
      " 726  724         int64 \n",
      " 727  725         int64 \n",
      " 728  726         int64 \n",
      " 729  727         int64 \n",
      " 730  728         int64 \n",
      " 731  729         int64 \n",
      " 732  730         int64 \n",
      " 733  731         int64 \n",
      " 734  732         int64 \n",
      " 735  733         int64 \n",
      " 736  734         int64 \n",
      " 737  735         int64 \n",
      " 738  736         int64 \n",
      " 739  737         int64 \n",
      " 740  738         int64 \n",
      " 741  739         int64 \n",
      " 742  740         int64 \n",
      " 743  741         int64 \n",
      " 744  742         int64 \n",
      " 745  743         int64 \n",
      " 746  744         int64 \n",
      " 747  745         int64 \n",
      " 748  746         int64 \n",
      " 749  747         int64 \n",
      " 750  748         int64 \n",
      " 751  749         int64 \n",
      " 752  750         int64 \n",
      " 753  751         int64 \n",
      " 754  752         int64 \n",
      " 755  753         int64 \n",
      " 756  754         int64 \n",
      " 757  755         int64 \n",
      " 758  756         int64 \n",
      " 759  757         int64 \n",
      " 760  758         int64 \n",
      " 761  759         int64 \n",
      " 762  760         int64 \n",
      " 763  761         int64 \n",
      " 764  762         int64 \n",
      " 765  763         int64 \n",
      " 766  764         int64 \n",
      " 767  765         int64 \n",
      " 768  766         int64 \n",
      " 769  767         int64 \n",
      " 770  768         int64 \n",
      " 771  769         int64 \n",
      " 772  770         int64 \n",
      " 773  771         int64 \n",
      " 774  772         int64 \n",
      " 775  773         int64 \n",
      " 776  774         int64 \n",
      " 777  775         int64 \n",
      " 778  776         int64 \n",
      " 779  777         int64 \n",
      " 780  778         int64 \n",
      " 781  779         int64 \n",
      " 782  780         int64 \n",
      " 783  781         int64 \n",
      " 784  782         int64 \n",
      " 785  783         int64 \n",
      " 786  784         int64 \n",
      "dtypes: int64(784), object(3)\n",
      "memory usage: 1.6+ GB\n"
     ]
    }
   ],
   "source": [
    "# DataFrame feature's Datatype\n",
    "data_g.info(verbose=True)"
   ]
  },
  {
   "cell_type": "markdown",
   "id": "9da94ee0",
   "metadata": {
    "papermill": {
     "duration": 0.017979,
     "end_time": "2024-11-18T03:21:59.458691",
     "exception": false,
     "start_time": "2024-11-18T03:21:59.440712",
     "status": "completed"
    },
    "tags": []
   },
   "source": [
    "This code provides an overview of the DataFrame, including the data types of each column, the number of non-null values in each, and the memory usage of the DataFrame. This information is valuable for understanding the structure and characteristics of the dataset, such as the type of data in each column and identifying columns with missing values."
   ]
  },
  {
   "cell_type": "markdown",
   "id": "e92b6a6e",
   "metadata": {
    "papermill": {
     "duration": 0.018327,
     "end_time": "2024-11-18T03:21:59.495531",
     "exception": false,
     "start_time": "2024-11-18T03:21:59.477204",
     "status": "completed"
    },
    "tags": []
   },
   "source": [
    "### Displaying the number of unique fonts and characters\n"
   ]
  },
  {
   "cell_type": "code",
   "execution_count": 14,
   "id": "8f5fed6d",
   "metadata": {
    "execution": {
     "iopub.execute_input": "2024-11-18T03:21:59.534930Z",
     "iopub.status.busy": "2024-11-18T03:21:59.534468Z",
     "iopub.status.idle": "2024-11-18T03:21:59.592176Z",
     "shell.execute_reply": "2024-11-18T03:21:59.590960Z"
    },
    "papermill": {
     "duration": 0.080765,
     "end_time": "2024-11-18T03:21:59.595156",
     "exception": false,
     "start_time": "2024-11-18T03:21:59.514391",
     "status": "completed"
    },
    "tags": []
   },
   "outputs": [
    {
     "name": "stdout",
     "output_type": "stream",
     "text": [
      "Number of unique fonts present in the Dataset: 3019\n",
      "Number of unique character present in the Dataset: 94\n"
     ]
    }
   ],
   "source": [
    "# Number of Fonts present in the Dataframe\n",
    "print(f\"Number of unique fonts present in the Dataset: {len(data_g.font_name.unique())}\")\n",
    "# Number of unique characters present in the Dataframe\n",
    "print(f\"Number of unique character present in the Dataset: {len(data_g.label.unique())}\")"
   ]
  },
  {
   "cell_type": "markdown",
   "id": "a3974013",
   "metadata": {
    "papermill": {
     "duration": 0.018186,
     "end_time": "2024-11-18T03:21:59.632190",
     "exception": false,
     "start_time": "2024-11-18T03:21:59.614004",
     "status": "completed"
    },
    "tags": []
   },
   "source": [
    "The dataset includes 3,019 unique fonts, offering a diverse variety of text styles ideal for various text recognition and processing purposes.\n",
    "\n",
    "With 94 distinct characters comprising digits, letters, and special symbols, the dataset is well-suited for a wide range of text analysis and recognition applications."
   ]
  },
  {
   "cell_type": "code",
   "execution_count": 15,
   "id": "21be7953",
   "metadata": {
    "execution": {
     "iopub.execute_input": "2024-11-18T03:21:59.671035Z",
     "iopub.status.busy": "2024-11-18T03:21:59.670613Z",
     "iopub.status.idle": "2024-11-18T03:22:00.368927Z",
     "shell.execute_reply": "2024-11-18T03:22:00.365776Z"
    },
    "papermill": {
     "duration": 0.723306,
     "end_time": "2024-11-18T03:22:00.374112",
     "exception": false,
     "start_time": "2024-11-18T03:21:59.650806",
     "status": "completed"
    },
    "tags": []
   },
   "outputs": [],
   "source": [
    "# Spliting the Labels and the features\n",
    "\n",
    "X = data_g.drop(columns=['font_name','glyph_name','label']).values\n",
    "y = data_g[['label']].values\n",
    "del data_g"
   ]
  },
  {
   "cell_type": "markdown",
   "id": "c6acfcfb",
   "metadata": {
    "papermill": {
     "duration": 0.020567,
     "end_time": "2024-11-18T03:22:00.415610",
     "exception": false,
     "start_time": "2024-11-18T03:22:00.395043",
     "status": "completed"
    },
    "tags": []
   },
   "source": [
    "The X array is created by dropping the columns font_name, glyph_name, and label from the data DataFrame using the drop() function. The resulting DataFrame is then converted to a NumPy array using the .values attribute. This step likely separates the features or independent variables from the rest of the DataFrame for further analysis or model training.\n",
    "\n",
    "The y array is derived by selecting only the label column from the data DataFrame using the syntax [[\"label\"]], which creates a DataFrame containing just that column. The .values attribute is then used to transform it into a one-dimensional array of labels, representing the dependent variable.\n",
    "\n",
    "Finally, the original data DataFrame is deleted from memory using the del command, likely to free up memory or clean the workspace after the features and labels have been extracted into their respective arrays."
   ]
  },
  {
   "cell_type": "code",
   "execution_count": 16,
   "id": "eeaf11d6",
   "metadata": {
    "execution": {
     "iopub.execute_input": "2024-11-18T03:22:00.458886Z",
     "iopub.status.busy": "2024-11-18T03:22:00.458344Z",
     "iopub.status.idle": "2024-11-18T03:22:00.683599Z",
     "shell.execute_reply": "2024-11-18T03:22:00.682118Z"
    },
    "papermill": {
     "duration": 0.250248,
     "end_time": "2024-11-18T03:22:00.686562",
     "exception": false,
     "start_time": "2024-11-18T03:22:00.436314",
     "status": "completed"
    },
    "tags": []
   },
   "outputs": [
    {
     "data": {
      "text/plain": [
       "dtype('uint8')"
      ]
     },
     "execution_count": 16,
     "metadata": {},
     "output_type": "execute_result"
    }
   ],
   "source": [
    "#converting the data type of 'x'\n",
    "X = X.astype('u1')\n",
    "X.dtype"
   ]
  },
  {
   "cell_type": "markdown",
   "id": "188b2205",
   "metadata": {
    "papermill": {
     "duration": 0.020572,
     "end_time": "2024-11-18T03:22:00.728166",
     "exception": false,
     "start_time": "2024-11-18T03:22:00.707594",
     "status": "completed"
    },
    "tags": []
   },
   "source": [
    "The .astype('u1') method is used to convert the data type of the X array to uint8, an unsigned integer type that stores values between 0 and 255. This conversion is likely done to reduce memory usage, comply with the data type requirements of specific algorithms or libraries that use uint8, or standardize the data format for certain analyses or operations.\n",
    "\n",
    "After the conversion, the dtype attribute is checked to verify that the X array's data type has been successfully changed to uint8. This validation step ensures the conversion was successful and that the X array is now in the appropriate format for subsequent processing or modeling tasks."
   ]
  },
  {
   "cell_type": "code",
   "execution_count": 17,
   "id": "d3cb2dd3",
   "metadata": {
    "execution": {
     "iopub.execute_input": "2024-11-18T03:22:00.776363Z",
     "iopub.status.busy": "2024-11-18T03:22:00.775879Z",
     "iopub.status.idle": "2024-11-18T03:22:00.783626Z",
     "shell.execute_reply": "2024-11-18T03:22:00.782310Z"
    },
    "papermill": {
     "duration": 0.0373,
     "end_time": "2024-11-18T03:22:00.786375",
     "exception": false,
     "start_time": "2024-11-18T03:22:00.749075",
     "status": "completed"
    },
    "tags": []
   },
   "outputs": [
    {
     "data": {
      "text/plain": [
       "((272541, 784), (272541, 1))"
      ]
     },
     "execution_count": 17,
     "metadata": {},
     "output_type": "execute_result"
    }
   ],
   "source": [
    "#checking and displaying the shapes of the X and y \n",
    "X.shape, y.shape\n"
   ]
  },
  {
   "cell_type": "markdown",
   "id": "5e3f5c69",
   "metadata": {
    "papermill": {
     "duration": 0.020698,
     "end_time": "2024-11-18T03:22:00.828165",
     "exception": false,
     "start_time": "2024-11-18T03:22:00.807467",
     "status": "completed"
    },
    "tags": []
   },
   "source": [
    "## Visualiztion of the images"
   ]
  },
  {
   "cell_type": "code",
   "execution_count": 18,
   "id": "20a224aa",
   "metadata": {
    "execution": {
     "iopub.execute_input": "2024-11-18T03:22:00.873640Z",
     "iopub.status.busy": "2024-11-18T03:22:00.873109Z",
     "iopub.status.idle": "2024-11-18T03:22:01.435102Z",
     "shell.execute_reply": "2024-11-18T03:22:01.433967Z"
    },
    "papermill": {
     "duration": 0.588645,
     "end_time": "2024-11-18T03:22:01.437941",
     "exception": false,
     "start_time": "2024-11-18T03:22:00.849296",
     "status": "completed"
    },
    "tags": []
   },
   "outputs": [
    {
     "data": {
      "image/png": "[encoded data removed]",
      "text/plain": [
       "<Figure size 900x900 with 9 Axes>"
      ]
     },
     "metadata": {},
     "output_type": "display_data"
    }
   ],
   "source": [
    "import matplotlib.pyplot as plt\n",
    "\n",
    "X_images = X.reshape(-1,28,28)\n",
    "fig,axs = plt.subplots(3,3,figsize=(9,9))\n",
    "for i in range(9):\n",
    "    r=i//3\n",
    "    c=i%3\n",
    "    axs[r][c].set_xticks([])\n",
    "    axs[r][c].set_yticks([])\n",
    "    axs[r][c].imshow(X_images[i])\n",
    "plt.show()\n",
    "del X_images"
   ]
  },
  {
   "cell_type": "markdown",
   "id": "e9b26558",
   "metadata": {
    "papermill": {
     "duration": 0.021166,
     "end_time": "2024-11-18T03:22:01.481912",
     "exception": false,
     "start_time": "2024-11-18T03:22:01.460746",
     "status": "completed"
    },
    "tags": []
   },
   "source": [
    "The X array is reshaped into a 3D array where the first dimension represents the number of images (unspecified, denoted by -1), and each image is sized 28x28 pixels.\n",
    "\n",
    "A 3x3 grid of subplots is created using Matplotlib's plt.subplots(), with the figure size set to 9x9 inches.\n",
    "\n",
    "A loop iterates through the first nine entries of X_images, displaying each image on a separate subplot. The x and y-axis tick marks are hidden using set_xticks([]) and set_yticks([]). The imshow() function is applied to render the images with a colormap. Finally, the grid of images is displayed with plt.show().\n",
    "\n",
    "After visualization, X_images is deleted from memory using del to optimize memory usage once the images have been displayed."
   ]
  },
  {
   "cell_type": "code",
   "execution_count": 19,
   "id": "fc180790",
   "metadata": {
    "execution": {
     "iopub.execute_input": "2024-11-18T03:22:01.528748Z",
     "iopub.status.busy": "2024-11-18T03:22:01.527281Z",
     "iopub.status.idle": "2024-11-18T03:22:04.054809Z",
     "shell.execute_reply": "2024-11-18T03:22:04.053597Z"
    },
    "papermill": {
     "duration": 2.555021,
     "end_time": "2024-11-18T03:22:04.058528",
     "exception": false,
     "start_time": "2024-11-18T03:22:01.503507",
     "status": "completed"
    },
    "tags": []
   },
   "outputs": [],
   "source": [
    "#performing a train-test split on X and y\n",
    "from sklearn.model_selection import train_test_split\n",
    "\n",
    "X_train, X_test, y_train, y_test = train_test_split(X, y, test_size=0.1)\n",
    "y_train = y_train.reshape((-1,))\n",
    "y_test = y_test.reshape((-1,))\n"
   ]
  },
  {
   "cell_type": "code",
   "execution_count": 20,
   "id": "8d5c7207",
   "metadata": {
    "execution": {
     "iopub.execute_input": "2024-11-18T03:22:04.107163Z",
     "iopub.status.busy": "2024-11-18T03:22:04.106663Z",
     "iopub.status.idle": "2024-11-18T03:22:04.115281Z",
     "shell.execute_reply": "2024-11-18T03:22:04.113986Z"
    },
    "papermill": {
     "duration": 0.036509,
     "end_time": "2024-11-18T03:22:04.118200",
     "exception": false,
     "start_time": "2024-11-18T03:22:04.081691",
     "status": "completed"
    },
    "tags": []
   },
   "outputs": [
    {
     "data": {
      "text/plain": [
       "((245286,), (27255,))"
      ]
     },
     "execution_count": 20,
     "metadata": {},
     "output_type": "execute_result"
    }
   ],
   "source": [
    "X_train.shape, X_test.shape\n",
    "y_train.shape, y_test.shape"
   ]
  },
  {
   "cell_type": "code",
   "execution_count": 21,
   "id": "d7735bea",
   "metadata": {
    "execution": {
     "iopub.execute_input": "2024-11-18T03:22:04.160104Z",
     "iopub.status.busy": "2024-11-18T03:22:04.159689Z",
     "iopub.status.idle": "2024-11-18T03:22:07.715181Z",
     "shell.execute_reply": "2024-11-18T03:22:07.713112Z"
    },
    "papermill": {
     "duration": 3.580471,
     "end_time": "2024-11-18T03:22:07.718646",
     "exception": false,
     "start_time": "2024-11-18T03:22:04.138175",
     "status": "completed"
    },
    "tags": []
   },
   "outputs": [
    {
     "name": "stdout",
     "output_type": "stream",
     "text": [
      "Train labels dimension:\n",
      "(245286,)\n",
      "Test labels dimension:\n",
      "(27255,)\n"
     ]
    }
   ],
   "source": [
    "from sklearn.preprocessing import LabelBinarizer\n",
    "\n",
    "lb = LabelBinarizer()\n",
    "y_train_label = lb.fit_transform(y_train)\n",
    "y_test_label = lb.transform(y_test)\n",
    "print('Train labels dimension:');print(y_train.shape)\n",
    "print('Test labels dimension:');print(y_test.shape)"
   ]
  },
  {
   "cell_type": "code",
   "execution_count": 22,
   "id": "5e8a494e",
   "metadata": {
    "execution": {
     "iopub.execute_input": "2024-11-18T03:22:07.761669Z",
     "iopub.status.busy": "2024-11-18T03:22:07.761119Z",
     "iopub.status.idle": "2024-11-18T03:22:08.528311Z",
     "shell.execute_reply": "2024-11-18T03:22:08.526807Z"
    },
    "papermill": {
     "duration": 0.791852,
     "end_time": "2024-11-18T03:22:08.531764",
     "exception": false,
     "start_time": "2024-11-18T03:22:07.739912",
     "status": "completed"
    },
    "tags": []
   },
   "outputs": [],
   "source": [
    "# Normalizing the Dataset for the Neural Network\n",
    "X_train, X_test = np.true_divide(X_train, 255), np.true_divide(X_test, 255)"
   ]
  },
  {
   "cell_type": "code",
   "execution_count": 23,
   "id": "be346d61",
   "metadata": {
    "execution": {
     "iopub.execute_input": "2024-11-18T03:22:08.574319Z",
     "iopub.status.busy": "2024-11-18T03:22:08.573843Z",
     "iopub.status.idle": "2024-11-18T03:22:08.998829Z",
     "shell.execute_reply": "2024-11-18T03:22:08.997482Z"
    },
    "papermill": {
     "duration": 0.449536,
     "end_time": "2024-11-18T03:22:09.002185",
     "exception": false,
     "start_time": "2024-11-18T03:22:08.552649",
     "status": "completed"
    },
    "tags": []
   },
   "outputs": [],
   "source": [
    "# Reshape X_train and X_test for CNN\n",
    "X_train = X_train.reshape(-1,28,28,1).astype('float32')\n",
    "X_test = X_test.reshape(-1,28,28,1).astype('float32')"
   ]
  },
  {
   "cell_type": "markdown",
   "id": "b79a75c7",
   "metadata": {
    "papermill": {
     "duration": 0.019459,
     "end_time": "2024-11-18T03:22:09.041286",
     "exception": false,
     "start_time": "2024-11-18T03:22:09.021827",
     "status": "completed"
    },
    "tags": []
   },
   "source": [
    "## What is a Convolutional Neural Network (CNN)?\n",
    "A Convolutional Neural Network (CNN) is a specialized deep learning model designed to process structured grid-like data, such as images or time-series data. CNNs are highly effective in handling visual data and have become the backbone of computer vision tasks, including image classification, object detection, and image segmentation. They work by learning hierarchical patterns in data, starting from simple features like edges and textures to more complex structures like shapes and objects.\n"
   ]
  },
  {
   "cell_type": "markdown",
   "id": "f7c9d341",
   "metadata": {
    "papermill": {
     "duration": 0.019202,
     "end_time": "2024-11-18T03:22:09.083160",
     "exception": false,
     "start_time": "2024-11-18T03:22:09.063958",
     "status": "completed"
    },
    "tags": []
   },
   "source": [
    "The architecture of a CNN comprises several key components. Convolutional layers are the core of CNNs, using filters (or kernels) that slide across the input data to extract features. These filters learn to detect specific patterns, preserving the spatial relationships within the data. To introduce non-linearity and enable the network to learn complex patterns, activation functions such as ReLU (Rectified Linear Unit) are applied after each convolution. Additionally, pooling layers are used to downsample feature maps, reducing their dimensions and making the model computationally efficient while retaining essential features. Max pooling and average pooling are common techniques for this purpose.\n",
    "\n",
    "After feature extraction, the output is typically passed to fully connected layers, where it is flattened and processed to produce a final output, such as a class label or a numerical prediction. To reduce overfitting, techniques like dropout are often employed, where certain neurons are randomly disabled during training. This regularization ensures the model generalizes well to new data."
   ]
  },
  {
   "cell_type": "markdown",
   "id": "c271d98b",
   "metadata": {
    "papermill": {
     "duration": 0.020944,
     "end_time": "2024-11-18T03:22:09.123444",
     "exception": false,
     "start_time": "2024-11-18T03:22:09.102500",
     "status": "completed"
    },
    "tags": []
   },
   "source": [
    "![CNN](https://miro.medium.com/v2/resize:fit:1400/format:webp/1*uAeANQIOQPqWZnnuH-VEyw.jpeg)"
   ]
  },
  {
   "cell_type": "code",
   "execution_count": 24,
   "id": "7c6cdc43",
   "metadata": {
    "execution": {
     "iopub.execute_input": "2024-11-18T03:22:09.164024Z",
     "iopub.status.busy": "2024-11-18T03:22:09.163540Z",
     "iopub.status.idle": "2024-11-18T03:22:09.350932Z",
     "shell.execute_reply": "2024-11-18T03:22:09.349495Z"
    },
    "papermill": {
     "duration": 0.211312,
     "end_time": "2024-11-18T03:22:09.353896",
     "exception": false,
     "start_time": "2024-11-18T03:22:09.142584",
     "status": "completed"
    },
    "tags": []
   },
   "outputs": [
    {
     "name": "stderr",
     "output_type": "stream",
     "text": [
      "/opt/conda/lib/python3.10/site-packages/keras/src/layers/convolutional/base_conv.py:107: UserWarning: Do not pass an `input_shape`/`input_dim` argument to a layer. When using Sequential models, prefer using an `Input(shape)` object as the first layer in the model instead.\n",
      "  super().__init__(activity_regularizer=activity_regularizer, **kwargs)\n"
     ]
    }
   ],
   "source": [
    "#Defining and compiling a convolutional neural network\n",
    "cnnmodel = Sequential()\n",
    "cnnmodel.add(Conv2D(32,(4,4),input_shape = (28,28,1),activation = 'relu'))\n",
    "cnnmodel.add(MaxPooling2D(pool_size=(2,2)))\n",
    "cnnmodel.add(Conv2D(64,(3,3),activation = 'relu'))\n",
    "cnnmodel.add(MaxPooling2D(pool_size=(2,2)))\n",
    "cnnmodel.add(Dropout(0.2))\n",
    "cnnmodel.add(Flatten())\n",
    "cnnmodel.add(Dense(128,activation='relu'))\n",
    "cnnmodel.add(Dense(y_train_label.shape[1], activation='softmax'))\n",
    "cnnmodel.compile(loss='categorical_crossentropy', optimizer='adam',metrics=['accuracy'])"
   ]
  },
  {
   "cell_type": "markdown",
   "id": "ed0d6533",
   "metadata": {
    "papermill": {
     "duration": 0.019178,
     "end_time": "2024-11-18T03:22:09.393045",
     "exception": false,
     "start_time": "2024-11-18T03:22:09.373867",
     "status": "completed"
    },
    "tags": []
   },
   "source": [
    "Defining the CNN Model:\n",
    "\n",
    "cnnmodel = Sequential(): Initializes a sequential model. Sequential models are a linear stack of layers where you can just add layers one after the other.\n",
    "\n",
    "cnnmodel.add(Conv2D(32, (4,4), input_shape = (28,28,1), activation = 'relu')): Adds a 2D convolutional layer with 32 filters of size 4x4, specifying the input shape to be 28x28 pixels with 1 channel (e.g., grayscale images), and uses the ReLU activation function. Convolutional layers are used to extract features from the input images.\n",
    "\n",
    "cnnmodel.add(MaxPooling2D(pool_size=(2,2))): Adds a max pooling layer that reduces the spatial dimensions (height and width) of the input volume by taking the maximum value over a 2x2 pooling window. This helps reduce computation and controls overfitting.\n",
    "\n",
    "cnnmodel.add(Conv2D(64, (3,3), activation = 'relu')): Adds another convolutional layer, this time with 64 filters of size 3x3, using the ReLU activation function. This further processes the features extracted by the previous layers.\n",
    "\n",
    "cnnmodel.add(MaxPooling2D(pool_size=(2,2))): Another max pooling layer to further reduce the spatial dimensions of the input volume.\n",
    "\n",
    "cnnmodel.add(Dropout(0.2)): Applies dropout, randomly setting 20% of the input units to 0 at each update during training time, which helps prevent overfitting.\n",
    "\n",
    "cnnmodel.add(Flatten()): Flattens the input. This is needed because dense layers expect vectors as input, not the 3D output from the previous pooling layer.\n",
    "\n",
    "cnnmodel.add(Dense(128, activation='relu')): Adds a densely connected layer with 128 neurons and ReLU activation. Dense layers are fully connected layers that perform classification on the features extracted by the convolutional and pooling layers.\n",
    "\n",
    "cnnmodel.add(Dense(y_train_label.shape[1], activation='softmax')): Adds the output layer with a number of neurons equal to the number of classes (derived from y_train_label.shape[1]) and uses the softmax activation function. Softmax is used for multi-class classification to output probabilities of each class."
   ]
  },
  {
   "cell_type": "code",
   "execution_count": 25,
   "id": "645868fa",
   "metadata": {
    "execution": {
     "iopub.execute_input": "2024-11-18T03:22:09.433789Z",
     "iopub.status.busy": "2024-11-18T03:22:09.433318Z",
     "iopub.status.idle": "2024-11-18T03:22:09.465768Z",
     "shell.execute_reply": "2024-11-18T03:22:09.464558Z"
    },
    "papermill": {
     "duration": 0.056302,
     "end_time": "2024-11-18T03:22:09.468487",
     "exception": false,
     "start_time": "2024-11-18T03:22:09.412185",
     "status": "completed"
    },
    "tags": []
   },
   "outputs": [
    {
     "data": {
      "text/html": [
       "<pre style=\"white-space:pre;overflow-x:auto;line-height:normal;font-family:Menlo,'DejaVu Sans Mono',consolas,'Courier New',monospace\"><span style=\"font-weight: bold\">Model: \"sequential\"</span>\n",
       "</pre>\n"
      ],
      "text/plain": [
       "\u001b[1mModel: \"sequential\"\u001b[0m\n"
      ]
     },
     "metadata": {},
     "output_type": "display_data"
    },
    {
     "data": {
      "text/html": [
       "<pre style=\"white-space:pre;overflow-x:auto;line-height:normal;font-family:Menlo,'DejaVu Sans Mono',consolas,'Courier New',monospace\">┏━━━━━━━━━━━━━━━━━━━━━━━━━━━━━━━━━┳━━━━━━━━━━━━━━━━━━━━━━━━┳━━━━━━━━━━━━━━━┓\n",
       "┃<span style=\"font-weight: bold\"> Layer (type)                    </span>┃<span style=\"font-weight: bold\"> Output Shape           </span>┃<span style=\"font-weight: bold\">       Param # </span>┃\n",
       "┡━━━━━━━━━━━━━━━━━━━━━━━━━━━━━━━━━╇━━━━━━━━━━━━━━━━━━━━━━━━╇━━━━━━━━━━━━━━━┩\n",
       "│ conv2d (<span style=\"color: #0087ff; text-decoration-color: #0087ff\">Conv2D</span>)                 │ (<span style=\"color: #00d7ff; text-decoration-color: #00d7ff\">None</span>, <span style=\"color: #00af00; text-decoration-color: #00af00\">25</span>, <span style=\"color: #00af00; text-decoration-color: #00af00\">25</span>, <span style=\"color: #00af00; text-decoration-color: #00af00\">32</span>)     │           <span style=\"color: #00af00; text-decoration-color: #00af00\">544</span> │\n",
       "├─────────────────────────────────┼────────────────────────┼───────────────┤\n",
       "│ max_pooling2d (<span style=\"color: #0087ff; text-decoration-color: #0087ff\">MaxPooling2D</span>)    │ (<span style=\"color: #00d7ff; text-decoration-color: #00d7ff\">None</span>, <span style=\"color: #00af00; text-decoration-color: #00af00\">12</span>, <span style=\"color: #00af00; text-decoration-color: #00af00\">12</span>, <span style=\"color: #00af00; text-decoration-color: #00af00\">32</span>)     │             <span style=\"color: #00af00; text-decoration-color: #00af00\">0</span> │\n",
       "├─────────────────────────────────┼────────────────────────┼───────────────┤\n",
       "│ conv2d_1 (<span style=\"color: #0087ff; text-decoration-color: #0087ff\">Conv2D</span>)               │ (<span style=\"color: #00d7ff; text-decoration-color: #00d7ff\">None</span>, <span style=\"color: #00af00; text-decoration-color: #00af00\">10</span>, <span style=\"color: #00af00; text-decoration-color: #00af00\">10</span>, <span style=\"color: #00af00; text-decoration-color: #00af00\">64</span>)     │        <span style=\"color: #00af00; text-decoration-color: #00af00\">18,496</span> │\n",
       "├─────────────────────────────────┼────────────────────────┼───────────────┤\n",
       "│ max_pooling2d_1 (<span style=\"color: #0087ff; text-decoration-color: #0087ff\">MaxPooling2D</span>)  │ (<span style=\"color: #00d7ff; text-decoration-color: #00d7ff\">None</span>, <span style=\"color: #00af00; text-decoration-color: #00af00\">5</span>, <span style=\"color: #00af00; text-decoration-color: #00af00\">5</span>, <span style=\"color: #00af00; text-decoration-color: #00af00\">64</span>)       │             <span style=\"color: #00af00; text-decoration-color: #00af00\">0</span> │\n",
       "├─────────────────────────────────┼────────────────────────┼───────────────┤\n",
       "│ dropout (<span style=\"color: #0087ff; text-decoration-color: #0087ff\">Dropout</span>)               │ (<span style=\"color: #00d7ff; text-decoration-color: #00d7ff\">None</span>, <span style=\"color: #00af00; text-decoration-color: #00af00\">5</span>, <span style=\"color: #00af00; text-decoration-color: #00af00\">5</span>, <span style=\"color: #00af00; text-decoration-color: #00af00\">64</span>)       │             <span style=\"color: #00af00; text-decoration-color: #00af00\">0</span> │\n",
       "├─────────────────────────────────┼────────────────────────┼───────────────┤\n",
       "│ flatten (<span style=\"color: #0087ff; text-decoration-color: #0087ff\">Flatten</span>)               │ (<span style=\"color: #00d7ff; text-decoration-color: #00d7ff\">None</span>, <span style=\"color: #00af00; text-decoration-color: #00af00\">1600</span>)           │             <span style=\"color: #00af00; text-decoration-color: #00af00\">0</span> │\n",
       "├─────────────────────────────────┼────────────────────────┼───────────────┤\n",
       "│ dense (<span style=\"color: #0087ff; text-decoration-color: #0087ff\">Dense</span>)                   │ (<span style=\"color: #00d7ff; text-decoration-color: #00d7ff\">None</span>, <span style=\"color: #00af00; text-decoration-color: #00af00\">128</span>)            │       <span style=\"color: #00af00; text-decoration-color: #00af00\">204,928</span> │\n",
       "├─────────────────────────────────┼────────────────────────┼───────────────┤\n",
       "│ dense_1 (<span style=\"color: #0087ff; text-decoration-color: #0087ff\">Dense</span>)                 │ (<span style=\"color: #00d7ff; text-decoration-color: #00d7ff\">None</span>, <span style=\"color: #00af00; text-decoration-color: #00af00\">94</span>)             │        <span style=\"color: #00af00; text-decoration-color: #00af00\">12,126</span> │\n",
       "└─────────────────────────────────┴────────────────────────┴───────────────┘\n",
       "</pre>\n"
      ],
      "text/plain": [
       "┏━━━━━━━━━━━━━━━━━━━━━━━━━━━━━━━━━┳━━━━━━━━━━━━━━━━━━━━━━━━┳━━━━━━━━━━━━━━━┓\n",
       "┃\u001b[1m \u001b[0m\u001b[1mLayer (type)                   \u001b[0m\u001b[1m \u001b[0m┃\u001b[1m \u001b[0m\u001b[1mOutput Shape          \u001b[0m\u001b[1m \u001b[0m┃\u001b[1m \u001b[0m\u001b[1m      Param #\u001b[0m\u001b[1m \u001b[0m┃\n",
       "┡━━━━━━━━━━━━━━━━━━━━━━━━━━━━━━━━━╇━━━━━━━━━━━━━━━━━━━━━━━━╇━━━━━━━━━━━━━━━┩\n",
       "│ conv2d (\u001b[38;5;33mConv2D\u001b[0m)                 │ (\u001b[38;5;45mNone\u001b[0m, \u001b[38;5;34m25\u001b[0m, \u001b[38;5;34m25\u001b[0m, \u001b[38;5;34m32\u001b[0m)     │           \u001b[38;5;34m544\u001b[0m │\n",
       "├─────────────────────────────────┼────────────────────────┼───────────────┤\n",
       "│ max_pooling2d (\u001b[38;5;33mMaxPooling2D\u001b[0m)    │ (\u001b[38;5;45mNone\u001b[0m, \u001b[38;5;34m12\u001b[0m, \u001b[38;5;34m12\u001b[0m, \u001b[38;5;34m32\u001b[0m)     │             \u001b[38;5;34m0\u001b[0m │\n",
       "├─────────────────────────────────┼────────────────────────┼───────────────┤\n",
       "│ conv2d_1 (\u001b[38;5;33mConv2D\u001b[0m)               │ (\u001b[38;5;45mNone\u001b[0m, \u001b[38;5;34m10\u001b[0m, \u001b[38;5;34m10\u001b[0m, \u001b[38;5;34m64\u001b[0m)     │        \u001b[38;5;34m18,496\u001b[0m │\n",
       "├─────────────────────────────────┼────────────────────────┼───────────────┤\n",
       "│ max_pooling2d_1 (\u001b[38;5;33mMaxPooling2D\u001b[0m)  │ (\u001b[38;5;45mNone\u001b[0m, \u001b[38;5;34m5\u001b[0m, \u001b[38;5;34m5\u001b[0m, \u001b[38;5;34m64\u001b[0m)       │             \u001b[38;5;34m0\u001b[0m │\n",
       "├─────────────────────────────────┼────────────────────────┼───────────────┤\n",
       "│ dropout (\u001b[38;5;33mDropout\u001b[0m)               │ (\u001b[38;5;45mNone\u001b[0m, \u001b[38;5;34m5\u001b[0m, \u001b[38;5;34m5\u001b[0m, \u001b[38;5;34m64\u001b[0m)       │             \u001b[38;5;34m0\u001b[0m │\n",
       "├─────────────────────────────────┼────────────────────────┼───────────────┤\n",
       "│ flatten (\u001b[38;5;33mFlatten\u001b[0m)               │ (\u001b[38;5;45mNone\u001b[0m, \u001b[38;5;34m1600\u001b[0m)           │             \u001b[38;5;34m0\u001b[0m │\n",
       "├─────────────────────────────────┼────────────────────────┼───────────────┤\n",
       "│ dense (\u001b[38;5;33mDense\u001b[0m)                   │ (\u001b[38;5;45mNone\u001b[0m, \u001b[38;5;34m128\u001b[0m)            │       \u001b[38;5;34m204,928\u001b[0m │\n",
       "├─────────────────────────────────┼────────────────────────┼───────────────┤\n",
       "│ dense_1 (\u001b[38;5;33mDense\u001b[0m)                 │ (\u001b[38;5;45mNone\u001b[0m, \u001b[38;5;34m94\u001b[0m)             │        \u001b[38;5;34m12,126\u001b[0m │\n",
       "└─────────────────────────────────┴────────────────────────┴───────────────┘\n"
      ]
     },
     "metadata": {},
     "output_type": "display_data"
    },
    {
     "data": {
      "text/html": [
       "<pre style=\"white-space:pre;overflow-x:auto;line-height:normal;font-family:Menlo,'DejaVu Sans Mono',consolas,'Courier New',monospace\"><span style=\"font-weight: bold\"> Total params: </span><span style=\"color: #00af00; text-decoration-color: #00af00\">236,094</span> (922.24 KB)\n",
       "</pre>\n"
      ],
      "text/plain": [
       "\u001b[1m Total params: \u001b[0m\u001b[38;5;34m236,094\u001b[0m (922.24 KB)\n"
      ]
     },
     "metadata": {},
     "output_type": "display_data"
    },
    {
     "data": {
      "text/html": [
       "<pre style=\"white-space:pre;overflow-x:auto;line-height:normal;font-family:Menlo,'DejaVu Sans Mono',consolas,'Courier New',monospace\"><span style=\"font-weight: bold\"> Trainable params: </span><span style=\"color: #00af00; text-decoration-color: #00af00\">236,094</span> (922.24 KB)\n",
       "</pre>\n"
      ],
      "text/plain": [
       "\u001b[1m Trainable params: \u001b[0m\u001b[38;5;34m236,094\u001b[0m (922.24 KB)\n"
      ]
     },
     "metadata": {},
     "output_type": "display_data"
    },
    {
     "data": {
      "text/html": [
       "<pre style=\"white-space:pre;overflow-x:auto;line-height:normal;font-family:Menlo,'DejaVu Sans Mono',consolas,'Courier New',monospace\"><span style=\"font-weight: bold\"> Non-trainable params: </span><span style=\"color: #00af00; text-decoration-color: #00af00\">0</span> (0.00 B)\n",
       "</pre>\n"
      ],
      "text/plain": [
       "\u001b[1m Non-trainable params: \u001b[0m\u001b[38;5;34m0\u001b[0m (0.00 B)\n"
      ]
     },
     "metadata": {},
     "output_type": "display_data"
    }
   ],
   "source": [
    "cnnmodel.summary()"
   ]
  },
  {
   "cell_type": "code",
   "execution_count": 26,
   "id": "1eea1f14",
   "metadata": {
    "execution": {
     "iopub.execute_input": "2024-11-18T03:22:09.512061Z",
     "iopub.status.busy": "2024-11-18T03:22:09.511596Z",
     "iopub.status.idle": "2024-11-18T03:57:52.635898Z",
     "shell.execute_reply": "2024-11-18T03:57:52.633819Z"
    },
    "papermill": {
     "duration": 2143.150005,
     "end_time": "2024-11-18T03:57:52.639243",
     "exception": false,
     "start_time": "2024-11-18T03:22:09.489238",
     "status": "completed"
    },
    "tags": []
   },
   "outputs": [
    {
     "name": "stdout",
     "output_type": "stream",
     "text": [
      "Epoch 1/20\n",
      "\u001b[1m1472/1472\u001b[0m \u001b[32m━━━━━━━━━━━━━━━━━━━━\u001b[0m\u001b[37m\u001b[0m \u001b[1m93s\u001b[0m 62ms/step - accuracy: 0.7025 - loss: 1.1768 - val_accuracy: 0.8836 - val_loss: 0.3803\n",
      "Epoch 2/20\n",
      "\u001b[1m1472/1472\u001b[0m \u001b[32m━━━━━━━━━━━━━━━━━━━━\u001b[0m\u001b[37m\u001b[0m \u001b[1m90s\u001b[0m 61ms/step - accuracy: 0.8959 - loss: 0.3337 - val_accuracy: 0.9121 - val_loss: 0.2872\n",
      "Epoch 3/20\n",
      "\u001b[1m1472/1472\u001b[0m \u001b[32m━━━━━━━━━━━━━━━━━━━━\u001b[0m\u001b[37m\u001b[0m \u001b[1m142s\u001b[0m 62ms/step - accuracy: 0.9185 - loss: 0.2616 - val_accuracy: 0.9246 - val_loss: 0.2471\n",
      "Epoch 4/20\n",
      "\u001b[1m1472/1472\u001b[0m \u001b[32m━━━━━━━━━━━━━━━━━━━━\u001b[0m\u001b[37m\u001b[0m \u001b[1m91s\u001b[0m 62ms/step - accuracy: 0.9276 - loss: 0.2306 - val_accuracy: 0.9288 - val_loss: 0.2288\n",
      "Epoch 5/20\n",
      "\u001b[1m1472/1472\u001b[0m \u001b[32m━━━━━━━━━━━━━━━━━━━━\u001b[0m\u001b[37m\u001b[0m \u001b[1m143s\u001b[0m 62ms/step - accuracy: 0.9340 - loss: 0.2019 - val_accuracy: 0.9361 - val_loss: 0.2084\n",
      "Epoch 6/20\n",
      "\u001b[1m1472/1472\u001b[0m \u001b[32m━━━━━━━━━━━━━━━━━━━━\u001b[0m\u001b[37m\u001b[0m \u001b[1m96s\u001b[0m 65ms/step - accuracy: 0.9380 - loss: 0.1863 - val_accuracy: 0.9384 - val_loss: 0.2049\n",
      "Epoch 7/20\n",
      "\u001b[1m1472/1472\u001b[0m \u001b[32m━━━━━━━━━━━━━━━━━━━━\u001b[0m\u001b[37m\u001b[0m \u001b[1m91s\u001b[0m 62ms/step - accuracy: 0.9435 - loss: 0.1694 - val_accuracy: 0.9381 - val_loss: 0.1990\n",
      "Epoch 8/20\n",
      "\u001b[1m1472/1472\u001b[0m \u001b[32m━━━━━━━━━━━━━━━━━━━━\u001b[0m\u001b[37m\u001b[0m \u001b[1m90s\u001b[0m 61ms/step - accuracy: 0.9447 - loss: 0.1600 - val_accuracy: 0.9420 - val_loss: 0.1947\n",
      "Epoch 9/20\n",
      "\u001b[1m1472/1472\u001b[0m \u001b[32m━━━━━━━━━━━━━━━━━━━━\u001b[0m\u001b[37m\u001b[0m \u001b[1m90s\u001b[0m 61ms/step - accuracy: 0.9478 - loss: 0.1518 - val_accuracy: 0.9429 - val_loss: 0.1884\n",
      "Epoch 10/20\n",
      "\u001b[1m1472/1472\u001b[0m \u001b[32m━━━━━━━━━━━━━━━━━━━━\u001b[0m\u001b[37m\u001b[0m \u001b[1m92s\u001b[0m 62ms/step - accuracy: 0.9499 - loss: 0.1445 - val_accuracy: 0.9416 - val_loss: 0.1898\n",
      "Epoch 11/20\n",
      "\u001b[1m1472/1472\u001b[0m \u001b[32m━━━━━━━━━━━━━━━━━━━━\u001b[0m\u001b[37m\u001b[0m \u001b[1m141s\u001b[0m 62ms/step - accuracy: 0.9521 - loss: 0.1366 - val_accuracy: 0.9432 - val_loss: 0.1847\n",
      "Epoch 12/20\n",
      "\u001b[1m1472/1472\u001b[0m \u001b[32m━━━━━━━━━━━━━━━━━━━━\u001b[0m\u001b[37m\u001b[0m \u001b[1m93s\u001b[0m 63ms/step - accuracy: 0.9536 - loss: 0.1294 - val_accuracy: 0.9438 - val_loss: 0.1864\n",
      "Epoch 13/20\n",
      "\u001b[1m1472/1472\u001b[0m \u001b[32m━━━━━━━━━━━━━━━━━━━━\u001b[0m\u001b[37m\u001b[0m \u001b[1m94s\u001b[0m 64ms/step - accuracy: 0.9559 - loss: 0.1254 - val_accuracy: 0.9441 - val_loss: 0.1869\n",
      "Epoch 14/20\n",
      "\u001b[1m1472/1472\u001b[0m \u001b[32m━━━━━━━━━━━━━━━━━━━━\u001b[0m\u001b[37m\u001b[0m \u001b[1m141s\u001b[0m 63ms/step - accuracy: 0.9567 - loss: 0.1204 - val_accuracy: 0.9441 - val_loss: 0.1829\n",
      "Epoch 15/20\n",
      "\u001b[1m1472/1472\u001b[0m \u001b[32m━━━━━━━━━━━━━━━━━━━━\u001b[0m\u001b[37m\u001b[0m \u001b[1m92s\u001b[0m 63ms/step - accuracy: 0.9585 - loss: 0.1158 - val_accuracy: 0.9432 - val_loss: 0.1883\n",
      "Epoch 16/20\n",
      "\u001b[1m1472/1472\u001b[0m \u001b[32m━━━━━━━━━━━━━━━━━━━━\u001b[0m\u001b[37m\u001b[0m \u001b[1m93s\u001b[0m 63ms/step - accuracy: 0.9592 - loss: 0.1120 - val_accuracy: 0.9477 - val_loss: 0.1890\n",
      "Epoch 17/20\n",
      "\u001b[1m1472/1472\u001b[0m \u001b[32m━━━━━━━━━━━━━━━━━━━━\u001b[0m\u001b[37m\u001b[0m \u001b[1m141s\u001b[0m 63ms/step - accuracy: 0.9599 - loss: 0.1115 - val_accuracy: 0.9445 - val_loss: 0.1922\n",
      "Epoch 18/20\n",
      "\u001b[1m1472/1472\u001b[0m \u001b[32m━━━━━━━━━━━━━━━━━━━━\u001b[0m\u001b[37m\u001b[0m \u001b[1m93s\u001b[0m 63ms/step - accuracy: 0.9614 - loss: 0.1061 - val_accuracy: 0.9442 - val_loss: 0.1954\n",
      "Epoch 19/20\n",
      "\u001b[1m1472/1472\u001b[0m \u001b[32m━━━━━━━━━━━━━━━━━━━━\u001b[0m\u001b[37m\u001b[0m \u001b[1m93s\u001b[0m 63ms/step - accuracy: 0.9623 - loss: 0.1030 - val_accuracy: 0.9469 - val_loss: 0.1926\n",
      "Epoch 20/20\n",
      "\u001b[1m1472/1472\u001b[0m \u001b[32m━━━━━━━━━━━━━━━━━━━━\u001b[0m\u001b[37m\u001b[0m \u001b[1m91s\u001b[0m 62ms/step - accuracy: 0.9625 - loss: 0.1013 - val_accuracy: 0.9468 - val_loss: 0.1943\n"
     ]
    }
   ],
   "source": [
    "result = cnnmodel.fit(X_train, y_train_label, validation_split=0.1, epochs=20, batch_size=150, verbose=1)"
   ]
  },
  {
   "cell_type": "code",
   "execution_count": 27,
   "id": "b2e45546",
   "metadata": {
    "execution": {
     "iopub.execute_input": "2024-11-18T03:57:58.678961Z",
     "iopub.status.busy": "2024-11-18T03:57:58.678468Z",
     "iopub.status.idle": "2024-11-18T03:58:04.305208Z",
     "shell.execute_reply": "2024-11-18T03:58:04.303863Z"
    },
    "papermill": {
     "duration": 8.620036,
     "end_time": "2024-11-18T03:58:04.307928",
     "exception": false,
     "start_time": "2024-11-18T03:57:55.687892",
     "status": "completed"
    },
    "tags": []
   },
   "outputs": [
    {
     "name": "stdout",
     "output_type": "stream",
     "text": [
      "\u001b[1m852/852\u001b[0m \u001b[32m━━━━━━━━━━━━━━━━━━━━\u001b[0m\u001b[37m\u001b[0m \u001b[1m5s\u001b[0m 6ms/step - accuracy: 0.9441 - loss: 0.2065\n",
      "Test results - Accuracy: 0.9442670941352844%\n"
     ]
    }
   ],
   "source": [
    "test_results = cnnmodel.evaluate(X_test, y_test_label, verbose=1)\n",
    "print(f'Test results - Accuracy: {test_results[1]}%')\n"
   ]
  },
  {
   "cell_type": "markdown",
   "id": "a04dbb0e",
   "metadata": {
    "papermill": {
     "duration": 2.994508,
     "end_time": "2024-11-18T03:58:10.373200",
     "exception": false,
     "start_time": "2024-11-18T03:58:07.378692",
     "status": "completed"
    },
    "tags": []
   },
   "source": [
    "### **Evaluation of the CNN pre trained model**"
   ]
  },
  {
   "cell_type": "code",
   "execution_count": 28,
   "id": "df90db24",
   "metadata": {
    "execution": {
     "iopub.execute_input": "2024-11-18T03:58:16.369038Z",
     "iopub.status.busy": "2024-11-18T03:58:16.368591Z",
     "iopub.status.idle": "2024-11-18T03:58:17.035490Z",
     "shell.execute_reply": "2024-11-18T03:58:17.034092Z"
    },
    "papermill": {
     "duration": 3.675854,
     "end_time": "2024-11-18T03:58:17.038360",
     "exception": false,
     "start_time": "2024-11-18T03:58:13.362506",
     "status": "completed"
    },
    "tags": []
   },
   "outputs": [
    {
     "data": {
      "text/plain": [
       "<Axes: >"
      ]
     },
     "execution_count": 28,
     "metadata": {},
     "output_type": "execute_result"
    },
    {
     "data": {
      "image/png": "[encoded data removed]",
      "text/plain": [
       "<Figure size 640x480 with 1 Axes>"
      ]
     },
     "metadata": {},
     "output_type": "display_data"
    },
    {
     "data": {
      "image/png": "[encoded data removed]",
      "text/plain": [
       "<Figure size 640x480 with 1 Axes>"
      ]
     },
     "metadata": {},
     "output_type": "display_data"
    }
   ],
   "source": [
    "#visualizing the training progress \n",
    "#performance of the CNN model during training. \n",
    "his = pd.DataFrame(result.history)\n",
    "his.loc[:, ['accuracy', 'val_accuracy']].plot()\n",
    "his.loc[:, ['loss', 'val_loss']].plot()\n"
   ]
  },
  {
   "cell_type": "markdown",
   "id": "06b1f379",
   "metadata": {
    "papermill": {
     "duration": 3.109659,
     "end_time": "2024-11-18T03:58:23.129840",
     "exception": false,
     "start_time": "2024-11-18T03:58:20.020181",
     "status": "completed"
    },
    "tags": []
   },
   "source": [
    "- The first plot illustrates the training and validation accuracy across epochs. Initially, both accuracies improve rapidly, eventually plateauing. The training accuracy consistently remains slightly higher than the validation accuracy, indicating that the model is fitting the data well. However, the gap between the two accuracies hints at a possibility of overfitting as training progresses.\n",
    "\n",
    "- The second plot depicts the training and validation loss over epochs. Both losses drop steeply during the initial epochs, reflecting effective learning. Over time, the training loss becomes lower than the validation loss, suggesting the model is starting to overfit the training data as the number of epochs increases. This pattern is common in deep learning and highlights the importance of monitoring validation performance to avoid overfitting."
   ]
  },
  {
   "cell_type": "markdown",
   "id": "14cacd17",
   "metadata": {
    "papermill": {
     "duration": 3.004537,
     "end_time": "2024-11-18T03:58:29.181358",
     "exception": false,
     "start_time": "2024-11-18T03:58:26.176821",
     "status": "completed"
    },
    "tags": []
   },
   "source": [
    "### **Conclusion**\n",
    "The dataset, when evaluated using the convolutional neural network, demonstrates significant improvement in accuracy during training, ultimately achieving approximately 94.37% accuracy on the training set and 94.91% on the test set. These results indicate that the model effectively learns to classify images with a high level of accuracy. Moreover, the similarity between training and validation accuracies suggests that the model is well-fitted, avoiding overfitting. This outcome highlights the model's strong ability to generalize to unseen data while maintaining excellent performance."
   ]
  },
  {
   "cell_type": "markdown",
   "id": "5f6eefce",
   "metadata": {
    "papermill": {
     "duration": 3.013397,
     "end_time": "2024-11-18T03:58:35.174287",
     "exception": false,
     "start_time": "2024-11-18T03:58:32.160890",
     "status": "completed"
    },
    "tags": []
   },
   "source": [
    "### References\n",
    "- https://towardsdatascience.com/a-comprehensive-guide-to-convolutional-neural-networks-the-eli5-way-3bd2b1164a53\n",
    "- https://www.kaggle.com/datasets/nimishmagre/tmnist-glyphs-1812-characters\n",
    "- https://www.kaggle.com/datasets/nikbearbrown/tmnist-alphabet-94-characters\n",
    "- https://en.wikipedia.org/wiki/Convolutional_neural_network"
   ]
  },
  {
   "cell_type": "markdown",
   "id": "ba1c9b8a",
   "metadata": {
    "papermill": {
     "duration": 2.982302,
     "end_time": "2024-11-18T03:58:41.222841",
     "exception": false,
     "start_time": "2024-11-18T03:58:38.240539",
     "status": "completed"
    },
    "tags": []
   },
   "source": [
    "### Licensing \n",
    "MIT License\n",
    "\n",
    "Copyright (c) 2024 Payal Sanjay Nagaonkar\n",
    "\n",
    "Permission is hereby granted, free of charge, to any person obtaining a copy of this software and associated documentation files (the \"Software\"), to deal in the Software without restriction, including without limitation the rights to use, copy, modify, merge, publish, distribute, sublicense, and/or sell copies of the Software, and to permit persons to whom the Software is furnished to do so, subject to the following conditions:\n",
    "\n",
    "The above copyright notice and this permission notice shall be included in all copies or substantial portions of the Software.\n",
    "\n",
    "THE SOFTWARE IS PROVIDED \"AS IS\", WITHOUT WARRANTY OF ANY KIND, EXPRESS OR IMPLIED, INCLUDING BUT NOT LIMITED TO THE WARRANTIES OF MERCHANTABILITY, FITNESS FOR A PARTICULAR PURPOSE AND NONINFRINGEMENT. IN NO EVENT SHALL THE AUTHORS OR COPYRIGHT HOLDERS BE LIABLE FOR ANY CLAIM, DAMAGES OR OTHER LIABILITY, WHETHER IN AN ACTION OF CONTRACT, TORT OR OTHERWISE, ARISING FROM, OUT OF OR IN CONNECTION WITH THE SOFTWARE OR THE USE OR OTHER DEALINGS IN THE SOFTWARE."
   ]
  }
 ],
 "metadata": {
  "kaggle": {
   "accelerator": "none",
   "dataSources": [
    {
     "datasetId": 1573084,
     "sourceId": 2634909,
     "sourceType": "datasetVersion"
    }
   ],
   "isGpuEnabled": false,
   "isInternetEnabled": true,
   "language": "python",
   "sourceType": "notebook"
  },
  "kernelspec": {
   "display_name": "Python 3",
   "language": "python",
   "name": "python3"
  },
  "language_info": {
   "codemirror_mode": {
    "name": "ipython",
    "version": 3
   },
   "file_extension": ".py",
   "mimetype": "text/x-python",
   "name": "python",
   "nbconvert_exporter": "python",
   "pygments_lexer": "ipython3",
   "version": "3.10.14"
  },
  "papermill": {
   "default_parameters": {},
   "duration": 2321.730591,
   "end_time": "2024-11-18T03:58:47.196741",
   "environment_variables": {},
   "exception": null,
   "input_path": "__notebook__.ipynb",
   "output_path": "__notebook__.ipynb",
   "parameters": {},
   "start_time": "2024-11-18T03:20:05.466150",
   "version": "2.6.0"
  }
 },
 "nbformat": 4,
 "nbformat_minor": 5
}
